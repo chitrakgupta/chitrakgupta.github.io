{
 "cells": [
  {
   "cell_type": "markdown",
   "metadata": {},
   "source": [
    "# Volunteeting\n",
    "\n",
    "Scientific computing is an essential skill, more than it has ever been. Analyzing data becomes faster, more efficient, and less error-prone by using these tools. At West Virginia University, we organize workshops to teach students, faculties, and researchers the skills that can have a positive impact on their work. I have and continue to work with West Virginia University's Research Computing team to teach such workshops. Given below are a list of such workshops I have been a part of.\n",
    "\n",
    "[Intermediate Python Workshop, West Virginia University, May 30, 2018](https://chitrakgupta.github.io/IntermediatePythonWorkshop/)\n",
    "\n",
    "[Software Carpentry Workshop, West Virginia Univetsity, Apr 21 - 22, 2018](https://davidyakobovitch.github.io/2018-04-21-wvu-r/)\n",
    "\n",
    "[Software Carpentry Workshop, West Virginia University, Aug 25 - 26, 2017](https://daniellequinn.github.io/2017-08-25-wvu/)\n",
    "\n",
    "[Summer HPC Workshop, West Virginia University, Jun 12 - 15, 2017](https://wvuhpc.github.io/HandsOnHPC/)\n",
    "\n"
   ]
  },
  {
   "cell_type": "code",
   "execution_count": null,
   "metadata": {
    "collapsed": true
   },
   "outputs": [],
   "source": []
  }
 ],
 "metadata": {
  "kernelspec": {
   "display_name": "Python 2",
   "language": "python",
   "name": "python2"
  },
  "language_info": {
   "codemirror_mode": {
    "name": "ipython",
    "version": 2
   },
   "file_extension": ".py",
   "mimetype": "text/x-python",
   "name": "python",
   "nbconvert_exporter": "python",
   "pygments_lexer": "ipython2",
   "version": "2.7.14"
  }
 },
 "nbformat": 4,
 "nbformat_minor": 2
}
