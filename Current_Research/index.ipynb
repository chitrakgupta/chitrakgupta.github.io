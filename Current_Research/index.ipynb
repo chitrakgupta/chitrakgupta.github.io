{
 "cells": [
  {
   "cell_type": "markdown",
   "metadata": {},
   "source": [
    "&nbsp;&nbsp;&nbsp;&nbsp; [Home](https://chitrakgupta.github.io) &nbsp;&nbsp;&nbsp;&nbsp; [LinkedIn](https://www.linkedin.com/in/chitrak-gupta-5474b9115/) &nbsp;&nbsp;&nbsp;&nbsp; [Research](https://chitrakgupta.github.io/Research/) &nbsp;&nbsp;&nbsp;&nbsp; [Publications](https://chitrakgupta.github.io/Publications/) &nbsp;&nbsp;&nbsp;&nbsp; [Mertz Lab](http://www.mertzlab-biophysics.com) &nbsp;&nbsp;&nbsp;&nbsp; [Volunteering](http://chitrakgupta.github.io/Volunteering/)&nbsp;&nbsp;&nbsp;&nbsp; [BPS blog](https://chitrakgupta.github.io/BPSblog/)\n",
    "\n",
    "\n",
    "# This page is currently in construction\n"
   ]
  }
 ],
 "metadata": {
  "kernelspec": {
   "display_name": "Python 2",
   "language": "python",
   "name": "python2"
  },
  "language_info": {
   "codemirror_mode": {
    "name": "ipython",
    "version": 2
   },
   "file_extension": ".py",
   "mimetype": "text/x-python",
   "name": "python",
   "nbconvert_exporter": "python",
   "pygments_lexer": "ipython2",
   "version": "2.7.14"
  }
 },
 "nbformat": 4,
 "nbformat_minor": 2
}
