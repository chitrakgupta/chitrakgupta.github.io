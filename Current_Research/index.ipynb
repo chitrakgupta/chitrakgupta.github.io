{
 "cells": [
  {
   "cell_type": "markdown",
   "metadata": {},
   "source": [
    "# Chemomechanical coupling of Complex I\n",
    "\n",
    "Efficient harvesting of solar energy will have far-reaching impact towards current energy needs. This makes bioenergetics the focus of modern energy research. Particularly, mitochondrial bioenergetics is receiving more importance than ever before. Mitochondria are the power-plant of most eukaryotic cells which employ electrons from NADH to synthesize ATP. The long-range goal of my research is to understand the mechanism of action of the respirasome consisting of membrane-embedded enzymes, named Complex I, III, IV and V. Recent discovery of the atomic model of Complex I, the first and the largest protein complex in the mitochondrial respiratory chain, has provided a fantastic opportunity for such study. My current focus is on the chemomechanical coupling in Complex I, where electrons from NADH are utilized to reduce quinone while pumping protons across the membrane.\n",
    "\n",
    "<img src=\"./Respirasome.png\" align=\"left\" style=\"display:inline;margin-right:20px; margin-bottom:20px;\"/>\n",
    "\n",
    "Complex I is an L-shaped protein where one of the arms is soluble and the other is transmembrane. The transmembrane domain is responsible for pumping protons across the membrane. The soluble domain houses the binding site for NADH as well as quinone. However, these two sites are far from each other. This raises the obvious question, how does the electrons from NADH reach the quinone? Other related questions are, how is the quinone traffick and the quinone-binding site influenced by presence of electrons (from NADH)? Many of the answers are tied to chemomechanical coupling: mechanical motion of protein domains arising out of chemical phenomenon (electron uptake). I am using large-scale MD simulation to understand the reduction-induced chemomechanical coupling in the soluble domain of Complex I."
   ]
  },
  {
   "cell_type": "markdown",
   "metadata": {},
   "source": [
    "# De novo protein folding from cryo EM data\n",
    "\n",
    "Multiple approaches exist for hybrid modeling, which combine MD simulation with experimental methods like NMR, X-ray crystallography and cryo EM data. Each approach uses molecular replacement, where an initial search model is fitted to the experimental data. This has two consequences:\n",
    "1. Quality of fit is biased by initial choice.\n",
    "2. Cannot be used where a search model is not available.\n",
    "\n",
    "To overcome these problems, we are developing a a protein modeling pipeline that interactively combines a minimam spanning tree based backbone tracing tool (MAINMAST), a bayesian-likelihood based protein-folding method (MELD), and a molecular dynamics fitting protocol (ReMDFF). Primary sequence information and cryo EM images are the only input required, and images with resolution of as low as 5 angstrom are sufficient to get a structural model.\n",
    "\n",
    "To make it easier to use, I am developing a GUI for this pipeline. I am using python's Kivy framework as well as kivy language for this purpose. Once ready, the protocol is expected to significantly push the boundaries of de novo protein folding."
   ]
  },
  {
   "cell_type": "code",
   "execution_count": null,
   "metadata": {},
   "outputs": [],
   "source": []
  }
 ],
 "metadata": {
  "kernelspec": {
   "display_name": "Python 2",
   "language": "python",
   "name": "python2"
  },
  "language_info": {
   "codemirror_mode": {
    "name": "ipython",
    "version": 2
   },
   "file_extension": ".py",
   "mimetype": "text/x-python",
   "name": "python",
   "nbconvert_exporter": "python",
   "pygments_lexer": "ipython2",
   "version": "2.7.14"
  }
 },
 "nbformat": 4,
 "nbformat_minor": 2
}
