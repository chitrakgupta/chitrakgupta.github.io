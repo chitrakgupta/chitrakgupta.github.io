{
 "cells": [
  {
   "cell_type": "markdown",
   "metadata": {},
   "source": [
    "# Duckworth-Lewis in limited overs cricket matches\n",
    "\n",
    "## Introduction\n",
    "Duckworth-Lewis method (https://en.wikipedia.org/wiki/Duckworth%E2%80%93Lewis_method) is used to calculate the modified target score for the team batting second in a cricket match where some overs are lost due to rain interruption. In this blog, I have taken a close look at such matches, primarily focusing on location (country) and the time of the year when a match is most likely to get affected by D/L.\n",
    "\n",
    "The data is available on espncricinfo.com. Scraping the website and converting the data into csv format was done by Gaurav Sood (https://github.com/soodoku/get-cricket-data) and Derek Willis (https://github.com/dwillis/toss-up). I used the two csv files published by these authors on their respective github repositories, where they did an excellent review of the effect of toss in a cricket match (including the effect of toss on D/L affected matches)."
   ]
  },
  {
   "cell_type": "markdown",
   "metadata": {},
   "source": [
    "## Data preparation\n",
    "First I read the final output data into a pandas data frame and select the matches which were affected by D/L. Then I read the grounds data into another pandas data frame."
   ]
  },
  {
   "cell_type": "code",
   "execution_count": 1,
   "metadata": {
    "collapsed": true
   },
   "outputs": [],
   "source": [
    "import pandas as pd\n",
    "dat = pd.read_csv(\"data/final_output.csv\")\n",
    "DL = dat[dat[' duckworth_lewis']==1]\n",
    "groundsDat = pd.read_csv(\"data/grounds.csv\")"
   ]
  },
  {
   "cell_type": "markdown",
   "metadata": {},
   "source": [
    "Now, I define a function to merge the two final output data and the grounds data. Then do this merging for the \"all\" data set (\"dat\") and the subset of matches affected by D/L (\"DL\"). Some data was lost here because some games were played at grounds whose ground information is not available. However, the percentage of lost data is not very high."
   ]
  },
  {
   "cell_type": "code",
   "execution_count": 2,
   "metadata": {},
   "outputs": [
    {
     "name": "stdout",
     "output_type": "stream",
     "text": [
      "Out of  43185  games,  42740  are being retained\n",
      "That is  98.97 % of total matches\n"
     ]
    }
   ],
   "source": [
    "def mergeGrounds(df, grounds):\n",
    "    # Get rid of the spaces in the names of grounds\n",
    "    df2 = df.rename(columns={' ground': 'ground'}, inplace=False)\n",
    "    df2['ground'] = df2['ground'].str.strip()\n",
    "    return pd.merge(df2, grounds, on='ground')\n",
    "\n",
    "DLmerged = mergeGrounds(DL, groundsDat)\n",
    "allMerged = mergeGrounds(dat, groundsDat)\n",
    "\n",
    "print \"Out of \", dat.shape[0], \" games, \", allMerged.shape[0], \" are being retained\"\n",
    "print \"That is \", \"%.2f\" % (allMerged.shape[0]*100./dat.shape[0]), \"% of total matches\""
   ]
  },
  {
   "cell_type": "markdown",
   "metadata": {},
   "source": [
    "## Results\n",
    "The first question I asked is, are day/night games affected by D/L more than day games?"
   ]
  },
  {
   "cell_type": "code",
   "execution_count": 3,
   "metadata": {
    "collapsed": true
   },
   "outputs": [],
   "source": [
    "import matplotlib.pyplot as plt\n",
    "allDN =sum(allMerged[' day_n_night']==1)*100./len(allMerged)\n",
    "DLDN = sum(DLmerged[' day_n_night']==1)*100./len(DLmerged)\n",
    "plt.bar(range(2),[allDN, DLDN])\n",
    "plt.xticks([0.5,1.5], [\"All\", \"D/L affected\"])\n",
    "plt.ylabel(\"% of day & night matches\")\n",
    "plt.savefig(\"figures/01-DL-DN.png\")\n",
    "plt.show()"
   ]
  },
  {
   "cell_type": "markdown",
   "metadata": {},
   "source": [
    "![title](./figures/01-DL-DN.png)\n",
    "Clearly, day & night games are affected more by D/L\n",
    "\n",
    "Next, I ask whether there is an advantage to the side batting first in a game affected by D/L. Typically, the target asking rate (runs per over) set for the chasing team in a D/L game is higher than that achieved by the team batting first. This raises the question as to whether the percentage of games won by the team batting first changes significantly in a D/L affected match."
   ]
  },
  {
   "cell_type": "code",
   "execution_count": 4,
   "metadata": {
    "collapsed": true
   },
   "outputs": [],
   "source": [
    "pd.options.mode.chained_assignment = None\n",
    "def BatFirstResult(df):\n",
    "    TossChoiceResult = df[[' team1', ' team2', ' win_toss', ' bat_or_bowl', ' win_game', ' type_of_match']]\n",
    "    batFirst = []\n",
    "    for i in range(TossChoiceResult.shape[0]):\n",
    "        if (TossChoiceResult[' bat_or_bowl'][i] == 'bat'):\n",
    "            batFirst.append(TossChoiceResult[' win_toss'][i])\n",
    "        else:\n",
    "            if (TossChoiceResult[' win_toss'][i] == TossChoiceResult[' team1'][i]):\n",
    "                batFirst.append(TossChoiceResult[' team2'][i])\n",
    "            else:\n",
    "                batFirst.append(TossChoiceResult[' team1'][i])\n",
    "            \n",
    "    TossChoiceResult.loc[:,'bat_first'] = pd.Series(batFirst)\n",
    "    batFirstWin = TossChoiceResult[TossChoiceResult[' win_game'] == TossChoiceResult['bat_first']]\n",
    "    \n",
    "    return batFirstWin, sum(TossChoiceResult[' win_game'] == TossChoiceResult['bat_first'])*100./TossChoiceResult.shape[0]\n",
    "\n",
    "DLresult, DLresultCount = BatFirstResult(DLmerged)\n",
    "allResult, allResultCount = BatFirstResult(allMerged)\n",
    "plt.bar(range(2),[allResultCount, DLresultCount])\n",
    "plt.xticks([0.5,1.5], [\"All\", \"D/L affected\"])\n",
    "plt.ylabel(\"% of games won by team batting first\")\n",
    "plt.savefig(\"figures/02-DL-battingFirst.png\")\n",
    "plt.show()"
   ]
  },
  {
   "cell_type": "markdown",
   "metadata": {},
   "source": [
    "![title](./figures/02-DL-battingFirst.png)\n",
    "\n",
    "We see there is in fact a very little difference (38.66% in all games vs. 45.35% in D/L games).\n",
    "\n",
    "Now I focus on how the location affects the likelihood of a match being affected by D/L. Does D/L come into play at all locations (countries)?"
   ]
  },
  {
   "cell_type": "code",
   "execution_count": 5,
   "metadata": {
    "collapsed": true
   },
   "outputs": [],
   "source": [
    "totalCountries = len(allMerged['country'].value_counts())\n",
    "DLcountries = len(DLmerged['country'].value_counts())\n",
    "plt.bar(range(2),[totalCountries, DLcountries])\n",
    "plt.xticks([0.5,1.5], [\"All\", \"D/L affected\"])\n",
    "plt.ylabel(\"Number of countries\")\n",
    "plt.savefig(\"figures/03-DL-countries.png\")\n",
    "plt.show() "
   ]
  },
  {
   "cell_type": "markdown",
   "metadata": {},
   "source": [
    "![title](./figures/03-DL-countries.png)\n",
    "\n",
    "We see that out of 41 countries where cricket is played in, only 24 has had matches affected by D/L so far.\n",
    "\n",
    "Next, I looked at how the location (country) affects the number of matches that gets affected by D/L."
   ]
  },
  {
   "cell_type": "code",
   "execution_count": 6,
   "metadata": {
    "collapsed": true
   },
   "outputs": [],
   "source": [
    "import numpy as np\n",
    "def plotCountries(df, save=0, fName=\"test.png\"):\n",
    "    countries = df['country'].value_counts()\n",
    "    names = list(countries.index)\n",
    "    # Renaming some of the countries to make the labels look better\n",
    "    if (\"United States of America\" in names):\n",
    "        ind = names.index(\"United States of America\")\n",
    "        names[ind] = \"USA\"\n",
    "    if (\"United Arab Emirates\" in names):\n",
    "        ind = names.index(\"United Arab Emirates\")\n",
    "        names[ind] = \"UAE\"\n",
    "    if (\"Papua New Guinea\" in names):\n",
    "        ind = names.index(\"Papua New Guinea\")\n",
    "        names[ind] = \"PNG\"\n",
    "    if (\"Cayman Islands\" in names):\n",
    "        ind = names.index(\"Cayman Islands\")\n",
    "        names[ind] = \"KY\"\n",
    "    # Done\n",
    "    xVals = np.array(range(len(countries)))\n",
    "    plt.bar(xVals, countries)\n",
    "    plt.xticks(xVals+0.5,names,rotation='vertical')\n",
    "    plt.gcf().subplots_adjust(bottom=0.3)\n",
    "    if (save):\n",
    "        plt.savefig(\"figures/\"+fName) \n",
    "    plt.show()\n",
    "\n",
    "plotCountries(DLmerged, save=1, fName=\"04-DL-all-countries.png\")"
   ]
  },
  {
   "cell_type": "markdown",
   "metadata": {},
   "source": [
    "![title](./figures/04-DL-all-countries.png)\n",
    "\n",
    "At first look, it appears that England has the highest instances of matches being affected by D/L. However, this might simply be due to more number of matches being played in England. In other words, highest instances need not mean highest probability.\n",
    "\n",
    "So we need to look at the number of matches played per country. Since D/L comes into play only in limited over games, we choose only to focus on the four categories, namely, \"ODI\", \"LISTA\", \"T20I\" and \"T20\", and leave out \"TEST\" and \"FC\"."
   ]
  },
  {
   "cell_type": "code",
   "execution_count": 7,
   "metadata": {
    "collapsed": true
   },
   "outputs": [],
   "source": [
    "limitedDat = dat[(dat[' type_of_match']!='TEST') & (dat[' type_of_match']!='FC')]\n",
    "limMerged = mergeGrounds(limitedDat, groundsDat)\n",
    "plotCountries(limMerged,save=1, fName=\"05-All-countries.png\")"
   ]
  },
  {
   "cell_type": "markdown",
   "metadata": {},
   "source": [
    "![title](./figures/05-All-countries.png)\n",
    "\n",
    "We see that the hunch was right. The higher occurrence of D/L affected matches in England was simply due to the higher number of matches being played in England. We need to look at the percentage of matches being affected by D/L instead of the number of them."
   ]
  },
  {
   "cell_type": "code",
   "execution_count": 8,
   "metadata": {
    "collapsed": true
   },
   "outputs": [],
   "source": [
    "def plotCountriesPerc(df, dfRef, save=0, fName = \"test.png\"):\n",
    "    countries = df['country'].value_counts().sort_index()\n",
    "    allMatchCountries = dfRef['country'].value_counts().sort_index()\n",
    "    percDL = (100.0*countries/allMatchCountries).sort_values(ascending=False)\n",
    "    names = list(percDL.index)\n",
    "    # Renaming \"United States of America\" to USA and \"United Arab Emirates\" to UAE to make the labels look better\n",
    "    if (\"United States of America\" in names):\n",
    "        ind = names.index(\"United States of America\")\n",
    "        names[ind] = \"USA\"\n",
    "    if (\"United Arab Emirates\" in names):\n",
    "        ind = names.index(\"United Arab Emirates\")\n",
    "        names[ind] = \"UAE\"\n",
    "    if (\"Papua New Guinea\" in names):\n",
    "        ind = names.index(\"Papua New Guinea\")\n",
    "        names[ind] = \"PNG\"\n",
    "    if (\"Cayman Islands\" in names):\n",
    "        ind = names.index(\"Cayman Islands\")\n",
    "        names[ind] = \"KY\"\n",
    "    ## Done\n",
    "    xVals = np.array(range(len(percDL)))\n",
    "    plt.bar(xVals, percDL)\n",
    "    plt.xticks(xVals+0.5,names,rotation='vertical')\n",
    "    plt.ylabel(\"% of games affected by D/L\")\n",
    "    plt.gcf().subplots_adjust(bottom=0.2)\n",
    "    if (save):\n",
    "        plt.savefig(\"figures/\"+fName) \n",
    "    plt.show()\n",
    "\n",
    "limMergedCountries = limMerged[limMerged['country'].isin(DLmerged['country'])]\n",
    "plotCountriesPerc(DLmerged,limMergedCountries, save=1, fName='06-DL-countries-percentage.png')"
   ]
  },
  {
   "cell_type": "markdown",
   "metadata": {},
   "source": [
    "![title](./figures/06-DL-countries-percentage.png)\n",
    "\n",
    "Now we see a totally different picture. At this point, let us focus on the countries where most games are played. Let us choose 1000 games as an arbitrary cut-off for the countries we want to include in the analysis."
   ]
  },
  {
   "cell_type": "code",
   "execution_count": 9,
   "metadata": {
    "collapsed": true
   },
   "outputs": [],
   "source": [
    "countries = limMerged['country'].value_counts()\n",
    "names = list(countries.index)\n",
    "topCountries = list(countries[countries > 1000].index)\n",
    "topMergedCountries = limMerged[limMerged['country'].isin(topCountries)]\n",
    "topDLcountries = DLmerged[DLmerged['country'].isin(topMergedCountries['country'])]\n",
    "plotCountriesPerc(topDLcountries, topMergedCountries, save=1, fName='07-DL-topCountries-percentage.png')"
   ]
  },
  {
   "cell_type": "markdown",
   "metadata": {
    "collapsed": true
   },
   "source": [
    "![title](./figures/07-DL-topCountries-percentage.png)\n",
    "\n",
    "We see games in Sri Lanka has the highest probability of being affected by D/L.\n",
    "\n",
    "Since D/L is directly linked to the weather, there might be a correlation between the time of the year when the match is being played and the probability of the match being affected by D/L. Let us look at that."
   ]
  },
  {
   "cell_type": "code",
   "execution_count": 10,
   "metadata": {
    "collapsed": true
   },
   "outputs": [],
   "source": [
    "def plotMonths(df,save=0,fName='test.png'):\n",
    "    Months = df[' date'].str.split().apply(pd.Series, 1).stack()[:,0]\n",
    "    monthCounts = Months.value_counts()\n",
    "    # Sometimes the accurate date isn't available\n",
    "    # So some random words become labeled as \"month\". But these are listed after the 12 months\n",
    "    # So, need to select the first 12 elements does the trick.\n",
    "    # We shall verifustify in the next section that we aren't losing a whole lot.\n",
    "    if (len(monthCounts)>12):\n",
    "        monthCounts = monthCounts[:12]\n",
    "    \n",
    "    names = list(monthCounts.index)\n",
    "    xVals = np.array(range(len(monthCounts)))\n",
    "    plt.bar(xVals, 100.*monthCounts/np.sum(monthCounts))\n",
    "    plt.xticks(xVals+0.5, names, rotation='vertical')\n",
    "    plt.ylabel(\"% of games affected by D/L\")\n",
    "    if (save):\n",
    "        plt.savefig(\"./figures/\"+fName)  \n",
    "    plt.show()\n",
    "    \n",
    "plotMonths(topDLcountries, save=1, fName=\"08-DuckworthLewis-top-months.png\")"
   ]
  },
  {
   "cell_type": "markdown",
   "metadata": {},
   "source": [
    "![title](./figures/08-DuckworthLewis-top-months.png)\n",
    "\n",
    "We don't see a lot of pattern, but maybe time of the year would be related to the country. Different countries get rain at different times of the year.\n",
    "\n",
    "But before proceeding to that, let us verify that we didn't throw out too many matches which had incorrectly formatted date."
   ]
  },
  {
   "cell_type": "code",
   "execution_count": 11,
   "metadata": {},
   "outputs": [
    {
     "name": "stdout",
     "output_type": "stream",
     "text": [
      "Out of  42740  matches, month information of  42554 has been accounted for\n",
      "That is  99.56 % of total matches\n"
     ]
    }
   ],
   "source": [
    "Months = allMerged[' date'].str.split().apply(pd.Series, 1).stack()[:,0]\n",
    "monthCounts = Months.value_counts()\n",
    "print \"Out of \", np.cumsum(monthCounts)[-1], \" matches, month information of \", np.cumsum(monthCounts)[11], \"has been accounted for\"\n",
    "print \"That is \", \"%.2f\" % (np.cumsum(monthCounts)[11]*100./np.cumsum(monthCounts)[-1]), \"% of total matches\""
   ]
  },
  {
   "cell_type": "code",
   "execution_count": 12,
   "metadata": {},
   "outputs": [
    {
     "name": "stderr",
     "output_type": "stream",
     "text": [
      "/usr/lib/pymodules/python2.7/matplotlib/collections.py:548: FutureWarning: elementwise comparison failed; returning scalar instead, but in the future will perform elementwise comparison\n",
      "  if self._edgecolors == 'face':\n"
     ]
    }
   ],
   "source": [
    "import datetime\n",
    "def getMonthInfo(df):\n",
    "    Months = df[' date'].str.split().apply(pd.Series, 1).stack()[:,0]\n",
    "    df.loc[:, 'month'] = pd.Series(Months)\n",
    "    months = {datetime.datetime(2000,i,1).strftime(\"%b\"): i for i in range(1,13)}\n",
    "    df.loc[:,'month_number'] = pd.Series(df['month'].map(months))\n",
    "\n",
    "getMonthInfo(topDLcountries)\n",
    "getMonthInfo(topMergedCountries)\n",
    "\n",
    "import calendar\n",
    "from matplotlib import cm\n",
    "from mpl_toolkits.axes_grid1 import make_axes_locatable\n",
    "def plotCountriesAndMonthsPerc(df, dfRef, save=0, fName='test.png'):\n",
    "    DLcrossTab = pd.crosstab(df.country, df.month_number)\n",
    "    allcrossTab = pd.crosstab(dfRef.country, dfRef.month_number)\n",
    "    DLmatrix = DLcrossTab.as_matrix()\n",
    "    allmatrix = allcrossTab.as_matrix()\n",
    "    perc = 100.0 * np.true_divide(DLmatrix, allmatrix, where=(allmatrix!=0))\n",
    "    perc[allmatrix == 0] = 0\n",
    "    realPerc = np.nan_to_num(perc)\n",
    "    monthNames=[]\n",
    "    for i in range(1,13):\n",
    "        monthNames.append(calendar.month_abbr[i])\n",
    "    \n",
    "    plt.figure(figsize=(8,8))\n",
    "    ax = plt.gca()\n",
    "    mat = ax.matshow(realPerc, cmap=cm.Reds)\n",
    "    ax.set_xticks(range(12))\n",
    "    ax.set_xticklabels(monthNames, rotation=90)\n",
    "    ax.set_yticks(range(realPerc.shape[0]))\n",
    "    ax.set_yticklabels(list(DLcrossTab.index))\n",
    "    divider = make_axes_locatable(ax)\n",
    "    cax = divider.append_axes(\"right\", size=\"5%\", pad=0.05)\n",
    "    plt.colorbar(mat, cax = cax)\n",
    "    plt.gcf().subplots_adjust(left=0.2)\n",
    "    if (save):\n",
    "        plt.savefig(\"./figures/\"+fName)\n",
    "    plt.show()\n",
    "    \n",
    "plotCountriesAndMonthsPerc(topDLcountries, topMergedCountries, save=1, fName=\"09-CountriesAndMonths.png\")"
   ]
  },
  {
   "cell_type": "markdown",
   "metadata": {},
   "source": [
    "![title](./figures/09-CountriesAndMonths.png)\n",
    "\n",
    "We see that the highest probability of D/L coming into play is in matches played in India in August and in New Zealand in September, followed by those played in New Zealand (November), Bangladesh (Jun and September), Sri Lanka (December) and West Indies (July)."
   ]
  },
  {
   "cell_type": "code",
   "execution_count": null,
   "metadata": {
    "collapsed": true
   },
   "outputs": [],
   "source": []
  }
 ],
 "metadata": {
  "kernelspec": {
   "display_name": "Python 2",
   "language": "python",
   "name": "python2"
  },
  "language_info": {
   "codemirror_mode": {
    "name": "ipython",
    "version": 2
   },
   "file_extension": ".py",
   "mimetype": "text/x-python",
   "name": "python",
   "nbconvert_exporter": "python",
   "pygments_lexer": "ipython2",
   "version": "2.7.6"
  }
 },
 "nbformat": 4,
 "nbformat_minor": 2
}
