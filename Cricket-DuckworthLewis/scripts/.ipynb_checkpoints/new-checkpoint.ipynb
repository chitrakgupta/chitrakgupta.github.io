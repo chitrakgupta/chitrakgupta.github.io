{
 "cells": [
  {
   "cell_type": "code",
   "execution_count": 1,
   "metadata": {
    "scrolled": true
   },
   "outputs": [],
   "source": [
    "import pandas as pd\n",
    "import matplotlib.pyplot as plt\n",
    "import numpy as np\n",
    "# Read data\n",
    "dat = pd.read_csv(\"../data/final_output.csv\")\n",
    "# Read ground information\n",
    "groundsDat = pd.read_csv(\"../data/grounds.csv\")"
   ]
  },
  {
   "cell_type": "code",
   "execution_count": 2,
   "metadata": {
    "collapsed": true
   },
   "outputs": [],
   "source": [
    "#groundsList = groundsDat['ground']\n",
    "# Select the matches affected by D/L\n",
    "DL = dat[dat[' duckworth_lewis']==1]\n",
    "# Calculate % of matches affected by D/L\n",
    "percNA = sum(pd.isnull(DL[' ground']))*100./len(dat)\n",
    "# Select the grounds where D/L came into play\n",
    "DLgrounds = DL[' ground']"
   ]
  },
  {
   "cell_type": "code",
   "execution_count": 3,
   "metadata": {
    "collapsed": true
   },
   "outputs": [],
   "source": [
    "# Merge ground information with everything else\n",
    "def mergeGrounds(df, grounds):\n",
    "    # Get rid of the spaces in the names of grounds\n",
    "    df.rename(columns={' ground': 'ground'}, inplace=True)\n",
    "    df['ground'] = df['ground'].str.strip()\n",
    "    return pd.merge(df, grounds, on='ground')"
   ]
  },
  {
   "cell_type": "code",
   "execution_count": 4,
   "metadata": {},
   "outputs": [
    {
     "name": "stdout",
     "output_type": "stream",
     "text": [
      "Out of  43185  games,  42740  are being retained\n",
      "That is  98.9695496121 % of total matches\n"
     ]
    },
    {
     "name": "stderr",
     "output_type": "stream",
     "text": [
      "/usr/local/lib/python2.7/dist-packages/pandas/core/frame.py:2844: SettingWithCopyWarning: \n",
      "A value is trying to be set on a copy of a slice from a DataFrame\n",
      "\n",
      "See the caveats in the documentation: http://pandas.pydata.org/pandas-docs/stable/indexing.html#indexing-view-versus-copy\n",
      "  **kwargs)\n",
      "/usr/local/lib/python2.7/dist-packages/ipykernel_launcher.py:5: SettingWithCopyWarning: \n",
      "A value is trying to be set on a copy of a slice from a DataFrame.\n",
      "Try using .loc[row_indexer,col_indexer] = value instead\n",
      "\n",
      "See the caveats in the documentation: http://pandas.pydata.org/pandas-docs/stable/indexing.html#indexing-view-versus-copy\n",
      "  \"\"\"\n"
     ]
    }
   ],
   "source": [
    "DLmerged = mergeGrounds(DL, groundsDat)\n",
    "allMerged = mergeGrounds(dat, groundsDat)\n",
    "\n",
    "### Some data was lost here because some games were played at grounds whose ground information is not available\n",
    "print \"Out of \", dat.shape[0], \" games, \", allMerged.shape[0], \" are being retained\"\n",
    "print \"That is \", allMerged.shape[0]*100./dat.shape[0], \"% of total matches\""
   ]
  },
  {
   "cell_type": "code",
   "execution_count": 5,
   "metadata": {
    "collapsed": true
   },
   "outputs": [],
   "source": [
    "# Does matches get affected by D/L in all countries that cricket is played in?\n",
    "totalCountries = len(allMerged['country'].value_counts())\n",
    "DLcountries = len(DLmerged['country'].value_counts())\n",
    "plt.bar(range(2),[totalCountries, DLcountries])\n",
    "plt.xticks([0.5,1.5], [\"All\", \"D/L affected\"])\n",
    "plt.ylabel(\"Number of countries\")\n",
    "plt.savefig(\"../figures/01-DL-countries.png\")\n",
    "plt.show()\n",
    "\n",
    "# Out of 41 countries where cricket is played in, only 24 has had matches affected by D/L so far."
   ]
  },
  {
   "cell_type": "code",
   "execution_count": 6,
   "metadata": {
    "collapsed": true
   },
   "outputs": [],
   "source": [
    "# Is effect of D/L more on day & night games?\n",
    "\n",
    "# % of games where D/L came into play which were day & night\n",
    "DLDN = sum(DLmerged[' day_n_night']==1)*100./len(DLmerged)\n",
    "# % of all games which were day & night\n",
    "allDN =sum(allMerged[' day_n_night']==1)*100./len(allMerged)\n",
    "plt.bar(range(2),[allDN, DLDN])\n",
    "plt.xticks([0.5,1.5], [\"All\", \"D/L affected\"])\n",
    "plt.ylabel(\"% of day & night matches\")\n",
    "plt.savefig(\"../figures/02-DL-DN.png\")\n",
    "plt.show()\n",
    "\n",
    "# Clearly, day & night games are affected more by D/L"
   ]
  },
  {
   "cell_type": "code",
   "execution_count": 7,
   "metadata": {
    "collapsed": true
   },
   "outputs": [],
   "source": [
    "# Number of D/L affected games by countries\n",
    "def plotCountries(df, save=0, fName=\"test.png\"):\n",
    "    countries = df['country'].value_counts()\n",
    "    names = list(countries.index)\n",
    "    # Renaming some of the countries to make the labels look better\n",
    "    if (\"United States of America\" in names):\n",
    "        ind = names.index(\"United States of America\")\n",
    "        names[ind] = \"USA\"\n",
    "    if (\"United Arab Emirates\" in names):\n",
    "        ind = names.index(\"United Arab Emirates\")\n",
    "        names[ind] = \"UAE\"\n",
    "    if (\"Papua New Guinea\" in names):\n",
    "        ind = names.index(\"Papua New Guinea\")\n",
    "        names[ind] = \"PNG\"\n",
    "    if (\"Cayman Islands\" in names):\n",
    "        ind = names.index(\"Cayman Islands\")\n",
    "        names[ind] = \"KY\"\n",
    "    # Done\n",
    "    xVals = np.array(range(len(countries)))\n",
    "    plt.bar(xVals, countries)\n",
    "    plt.xticks(xVals+0.5,names,rotation='vertical')\n",
    "    plt.gcf().subplots_adjust(bottom=0.3)\n",
    "    if (save):\n",
    "        plt.savefig(\"../figures/\"+fName) \n",
    "    \n",
    "    plt.show()"
   ]
  },
  {
   "cell_type": "code",
   "execution_count": 8,
   "metadata": {
    "collapsed": true
   },
   "outputs": [],
   "source": [
    "plotCountries(DLmerged, save=0, fName=\"03-DL-countries.png\")\n",
    "# This seems to suggest most D/L affected matches are played in England"
   ]
  },
  {
   "cell_type": "code",
   "execution_count": 9,
   "metadata": {},
   "outputs": [
    {
     "name": "stderr",
     "output_type": "stream",
     "text": [
      "/usr/local/lib/python2.7/dist-packages/ipykernel_launcher.py:5: SettingWithCopyWarning: \n",
      "A value is trying to be set on a copy of a slice from a DataFrame.\n",
      "Try using .loc[row_indexer,col_indexer] = value instead\n",
      "\n",
      "See the caveats in the documentation: http://pandas.pydata.org/pandas-docs/stable/indexing.html#indexing-view-versus-copy\n",
      "  \"\"\"\n"
     ]
    }
   ],
   "source": [
    "# Since D/L only applies to limited overs, let us separate these out\n",
    "# This includes ListA, ODI, T20 and T20I. Excludes Test and First Class matches\n",
    "limitedDat = dat[(dat[' type_of_match']!='TEST') & (dat[' type_of_match']!='FC')]\n",
    "limMerged = mergeGrounds(limitedDat, groundsDat)\n",
    "# Let us see where the matches are played\n",
    "plotCountries(limMerged,save=1, fName=\"04-All-countries.png\")\n",
    "\n",
    "# Now we see that most limited over matches are also played in England, so the previous figure was misleading\n",
    "# Let us see the same thing as the percentage of games played in a given country"
   ]
  },
  {
   "cell_type": "code",
   "execution_count": 10,
   "metadata": {
    "collapsed": true
   },
   "outputs": [],
   "source": [
    "# Percentage of D/L affected games by countries\n",
    "def plotCountriesPerc(df, dfRef, save=0, fName = \"test.png\"):\n",
    "    countries = df['country'].value_counts().sort_index()\n",
    "    allMatchCountries = dfRef['country'].value_counts().sort_index()\n",
    "    percDL = (100.0*countries/allMatchCountries).sort_values(ascending=False)\n",
    "    names = list(percDL.index)\n",
    "    # Renaming \"United States of America\" to USA and \"United Arab Emirates\" to UAE to make the labels look better\n",
    "    if (\"United States of America\" in names):\n",
    "        ind = names.index(\"United States of America\")\n",
    "        names[ind] = \"USA\"\n",
    "    if (\"United Arab Emirates\" in names):\n",
    "        ind = names.index(\"United Arab Emirates\")\n",
    "        names[ind] = \"UAE\"\n",
    "    if (\"Papua New Guinea\" in names):\n",
    "        ind = names.index(\"Papua New Guinea\")\n",
    "        names[ind] = \"PNG\"\n",
    "    if (\"Cayman Islands\" in names):\n",
    "        ind = names.index(\"Cayman Islands\")\n",
    "        names[ind] = \"KY\"\n",
    "    ## Done\n",
    "    xVals = np.array(range(len(percDL)))\n",
    "    plt.bar(xVals, percDL)\n",
    "    plt.xticks(xVals+0.5,names,rotation='vertical')\n",
    "    plt.ylabel(\"% of games affected by D/L\")\n",
    "    plt.gcf().subplots_adjust(bottom=0.2)\n",
    "    if (save):\n",
    "        plt.savefig(\"../figures/\"+fName) \n",
    "    \n",
    "    plt.show()"
   ]
  },
  {
   "cell_type": "code",
   "execution_count": 11,
   "metadata": {
    "collapsed": true
   },
   "outputs": [],
   "source": [
    "limMergedCountries = limMerged[limMerged['country'].isin(DLmerged['country'])]\n",
    "plotCountriesPerc(DLmerged,limMergedCountries, save=1, fName='05-DL-countries-percentage.png')\n",
    "# Now we see a totally different picture."
   ]
  },
  {
   "cell_type": "code",
   "execution_count": null,
   "metadata": {},
   "outputs": [],
   "source": [
    "# Let us focus on the countries where most games are played.\n",
    "countries = limMerged['country'].value_counts()\n",
    "names = list(countries.index)\n",
    "plt.bar(range(len(countries)), countries)\n",
    "plt.plot(1000)\n",
    "plt.show()"
   ]
  },
  {
   "cell_type": "code",
   "execution_count": 12,
   "metadata": {
    "collapsed": true
   },
   "outputs": [],
   "source": [
    "\n",
    "#print countries[:20]\n",
    "# Listing the top 20 countries, it seems worthwhile to focus on the countries where number of games > 1000\n",
    "topCountries = list(countries[countries > 1000].index)\n",
    "topMergedCountries = limMerged[limMerged['country'].isin(topCountries)]\n",
    "\n",
    "topDLcountries = DLmerged[DLmerged['country'].isin(topMergedCountries['country'])]\n",
    "plotCountriesPerc(topDLcountries, topMergedCountries, save=1, fName='06-DL-topCountries-percentage.png')"
   ]
  },
  {
   "cell_type": "code",
   "execution_count": 13,
   "metadata": {
    "collapsed": true
   },
   "outputs": [],
   "source": [
    "# Now let us see which time of the year does matches get affected by D/L?\n",
    "def plotMonths(df,save=0,fName='test.png'):\n",
    "    Months = df[' date'].str.split().apply(pd.Series, 1).stack()[:,0]\n",
    "    monthCounts = Months.value_counts()\n",
    "    # This is because sometimes the accurate date isn't available\n",
    "    # So some random words become labeled as \"month\". But these are listed after the 12 months\n",
    "    # So selecting the first 12 elements does the trick. Next Section verifies this is justified\n",
    "    if (len(monthCounts)>12):\n",
    "        monthCounts = monthCounts[:12]\n",
    "    \n",
    "    names = list(monthCounts.index)\n",
    "    xVals = np.array(range(len(monthCounts)))\n",
    "    plt.bar(xVals, monthCounts/np.sum(monthCounts))\n",
    "    plt.xticks(xVals+0.5, names, rotation='vertical')\n",
    "    if (save):\n",
    "        plt.savefig(\"../figures/\"+fName)\n",
    "        \n",
    "    plt.show()"
   ]
  },
  {
   "cell_type": "code",
   "execution_count": 14,
   "metadata": {
    "collapsed": true
   },
   "outputs": [],
   "source": [
    "if (False):\n",
    "    Months = allMerged[' date'].str.split().apply(pd.Series, 1).stack()[:,0]\n",
    "    monthCounts = Months.value_counts()\n",
    "    \n",
    "    print \"Out of \", np.cumsum(monthCounts)[-1], \" matches, month information of \", np.cumsum(monthCounts)[11], \"has been accounted for\"\n",
    "    print \"That is \", np.cumsum(monthCounts)[11]*100./np.cumsum(monthCounts)[-1], \"% of total matches\""
   ]
  },
  {
   "cell_type": "code",
   "execution_count": 15,
   "metadata": {
    "collapsed": true
   },
   "outputs": [],
   "source": [
    "#plotMonths(DLmerged, save=1, fName=\"DuckworthLewis-months.png\")\n",
    "plotMonths(topDLcountries, save=1, fName=\"07-DuckworthLewis-top-months.png\")\n",
    "# We don't see a lot of pattern, but maybe time of the year would be related to the country.\n",
    "# Different countries get rain at different times of the year"
   ]
  },
  {
   "cell_type": "code",
   "execution_count": 16,
   "metadata": {
    "collapsed": true
   },
   "outputs": [],
   "source": [
    "import datetime\n",
    "def getMonthInfo(df):\n",
    "    Months = df[' date'].str.split().apply(pd.Series, 1).stack()[:,0]\n",
    "    df['month'] = Months\n",
    "    months = {datetime.datetime(2000,i,1).strftime(\"%b\"): i for i in range(1,13)}\n",
    "    df['month_number'] = df['month'].map(months)"
   ]
  },
  {
   "cell_type": "code",
   "execution_count": 17,
   "metadata": {
    "scrolled": true
   },
   "outputs": [
    {
     "name": "stderr",
     "output_type": "stream",
     "text": [
      "/usr/local/lib/python2.7/dist-packages/ipykernel_launcher.py:4: SettingWithCopyWarning: \n",
      "A value is trying to be set on a copy of a slice from a DataFrame.\n",
      "Try using .loc[row_indexer,col_indexer] = value instead\n",
      "\n",
      "See the caveats in the documentation: http://pandas.pydata.org/pandas-docs/stable/indexing.html#indexing-view-versus-copy\n",
      "  after removing the cwd from sys.path.\n",
      "/usr/local/lib/python2.7/dist-packages/ipykernel_launcher.py:6: SettingWithCopyWarning: \n",
      "A value is trying to be set on a copy of a slice from a DataFrame.\n",
      "Try using .loc[row_indexer,col_indexer] = value instead\n",
      "\n",
      "See the caveats in the documentation: http://pandas.pydata.org/pandas-docs/stable/indexing.html#indexing-view-versus-copy\n",
      "  \n"
     ]
    }
   ],
   "source": [
    "getMonthInfo(topDLcountries)\n",
    "getMonthInfo(topMergedCountries)"
   ]
  },
  {
   "cell_type": "code",
   "execution_count": 18,
   "metadata": {
    "collapsed": true
   },
   "outputs": [],
   "source": [
    "import calendar\n",
    "from matplotlib import cm\n",
    "def plotCountriesAndMonthsPerc(df, dfRef, save=0, fName='test.png'):\n",
    "    DLcrossTab = pd.crosstab(df.country, df.month_number)\n",
    "    allcrossTab = pd.crosstab(dfRef.country, dfRef.month_number)\n",
    "    DLmatrix = DLcrossTab.as_matrix()\n",
    "    allmatrix = allcrossTab.as_matrix()\n",
    "    perc = 100.0*DLmatrix/allmatrix\n",
    "    realPerc = np.nan_to_num(perc)\n",
    "    monthNames=[]\n",
    "    for i in range(1,13):\n",
    "        monthNames.append(calendar.month_abbr[i])\n",
    "    \n",
    "    plt.figure(figsize=(8,8))\n",
    "    ax = plt.gca()\n",
    "    mat = ax.matshow(realPerc, cmap=cm.Reds)\n",
    "    ax.set_xticks(range(12))\n",
    "    ax.set_xticklabels(monthNames, rotation=90)\n",
    "    ax.set_yticks(range(realPerc.shape[0]))\n",
    "    ax.set_yticklabels(list(DLcrossTab.index))\n",
    "    plt.colorbar(mat)\n",
    "    plt.gcf().subplots_adjust(left=0.2)\n",
    "    if (save):\n",
    "        plt.savefig(\"../figures/\"+fName)\n",
    "        \n",
    "    plt.show()"
   ]
  },
  {
   "cell_type": "code",
   "execution_count": 22,
   "metadata": {},
   "outputs": [
    {
     "name": "stderr",
     "output_type": "stream",
     "text": [
      "/usr/local/lib/python2.7/dist-packages/ipykernel_launcher.py:8: RuntimeWarning: invalid value encountered in divide\n",
      "  \n"
     ]
    }
   ],
   "source": [
    "plotCountriesAndMonthsPerc(topDLcountries, topMergedCountries, save=1, fName=\"08-CountriesAndMonths.png\")"
   ]
  },
  {
   "cell_type": "code",
   "execution_count": 20,
   "metadata": {
    "collapsed": true
   },
   "outputs": [],
   "source": [
    "# What % of matches are won by team that batted first?\n",
    "def BatFirstResult(df):\n",
    "    #TossChoiceResult = DLmerged[' win_toss'].to_frame().join(DLmerged[' bat_or_bowl'].to_frame()).join(DLmerged[' win_game'].to_frame())\n",
    "    TossChoiceResult = df[[' team1', ' team2', ' win_toss', ' bat_or_bowl', ' win_game', ' type_of_match']]\n",
    "    batFirst = []\n",
    "    for i in range(TossChoiceResult.shape[0]):\n",
    "        if (TossChoiceResult[' bat_or_bowl'][i] == 'bat'):\n",
    "            batFirst.append(TossChoiceResult[' win_toss'][i])\n",
    "        else:\n",
    "            if (TossChoiceResult[' win_toss'][i] == TossChoiceResult[' team1'][i]):\n",
    "                batFirst.append(TossChoiceResult[' team2'][i])\n",
    "            else:\n",
    "                batFirst.append(TossChoiceResult[' team1'][i])\n",
    "            \n",
    "    TossChoiceResult['bat_first'] = batFirst\n",
    "    batFirstWin = TossChoiceResult[TossChoiceResult[' win_game'] == TossChoiceResult['bat_first']]\n",
    "    \n",
    "    return batFirstWin, sum(TossChoiceResult[' win_game'] == TossChoiceResult['bat_first'])*100./TossChoiceResult.shape[0]"
   ]
  },
  {
   "cell_type": "code",
   "execution_count": 21,
   "metadata": {},
   "outputs": [
    {
     "name": "stderr",
     "output_type": "stream",
     "text": [
      "/usr/local/lib/python2.7/dist-packages/ipykernel_launcher.py:15: SettingWithCopyWarning: \n",
      "A value is trying to be set on a copy of a slice from a DataFrame.\n",
      "Try using .loc[row_indexer,col_indexer] = value instead\n",
      "\n",
      "See the caveats in the documentation: http://pandas.pydata.org/pandas-docs/stable/indexing.html#indexing-view-versus-copy\n",
      "  from ipykernel import kernelapp as app\n"
     ]
    }
   ],
   "source": [
    "# Does batting first help in D/L affected matches?\n",
    "DLresult, DLresultCount = BatFirstResult(DLmerged)\n",
    "#allDLcountries.index = range(allDLcountries.shape[0])\n",
    "allResult, allResultCount = BatFirstResult(allMerged)\n",
    "\n",
    "\n",
    "plt.bar(range(2),[allResultCount, DLresultCount])\n",
    "plt.xticks([0.5,1.5], [\"All\", \"D/L affected\"])\n",
    "plt.ylabel(\"% of games won by team batting first\")\n",
    "plt.savefig(\"../figures/09-DL-battingFirst.png\")\n",
    "plt.show()"
   ]
  },
  {
   "cell_type": "code",
   "execution_count": null,
   "metadata": {
    "collapsed": true
   },
   "outputs": [],
   "source": []
  }
 ],
 "metadata": {
  "kernelspec": {
   "display_name": "Python 2",
   "language": "python",
   "name": "python2"
  },
  "language_info": {
   "codemirror_mode": {
    "name": "ipython",
    "version": 2
   },
   "file_extension": ".py",
   "mimetype": "text/x-python",
   "name": "python",
   "nbconvert_exporter": "python",
   "pygments_lexer": "ipython2",
   "version": "2.7.6"
  }
 },
 "nbformat": 4,
 "nbformat_minor": 2
}
