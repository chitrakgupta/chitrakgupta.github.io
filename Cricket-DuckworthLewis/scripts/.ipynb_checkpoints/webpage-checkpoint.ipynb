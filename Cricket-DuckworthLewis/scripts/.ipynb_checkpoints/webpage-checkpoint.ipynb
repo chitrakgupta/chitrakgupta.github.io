{
 "cells": [
  {
   "cell_type": "markdown",
   "metadata": {},
   "source": [
    "First I read the final output data into a pandas data frame and select the matches which were affected by D/L. Then I read the grounds data into another pandas data frame."
   ]
  },
  {
   "cell_type": "code",
   "execution_count": 1,
   "metadata": {
    "collapsed": true
   },
   "outputs": [],
   "source": [
    "import pandas as pd\n",
    "dat = pd.read_csv(\"../data/final_output.csv\")\n",
    "DL = dat[dat[' duckworth_lewis']==1]\n",
    "groundsDat = pd.read_csv(\"../data/grounds.csv\")"
   ]
  },
  {
   "cell_type": "markdown",
   "metadata": {},
   "source": [
    "Now, I define a function to merge the two final output data and the grounds data. Then do this merging for the \"all\" data set (\"dat\") and the subset of matches affected by D/L (\"DL\"). Some data was lost here because some games were played at grounds whose ground information is not available. However, the percentage of lost data is not very high."
   ]
  },
  {
   "cell_type": "code",
   "execution_count": 2,
   "metadata": {},
   "outputs": [
    {
     "name": "stdout",
     "output_type": "stream",
     "text": [
      "Out of  43185  games,  42740  are being retained\n",
      "That is  98.9695496121 % of total matches\n"
     ]
    }
   ],
   "source": [
    "def mergeGrounds(df, grounds):\n",
    "    # Get rid of the spaces in the names of grounds\n",
    "    df2 = df.rename(columns={' ground': 'ground'}, inplace=False)\n",
    "    df2['ground'] = df2['ground'].str.strip()\n",
    "    return pd.merge(df2, grounds, on='ground')\n",
    "\n",
    "DLmerged = mergeGrounds(DL, groundsDat)\n",
    "allMerged = mergeGrounds(dat, groundsDat)\n",
    "\n",
    "print \"Out of \", dat.shape[0], \" games, \", allMerged.shape[0], \" are being retained\"\n",
    "print \"That is \", allMerged.shape[0]*100./dat.shape[0], \"% of total matches\""
   ]
  },
  {
   "cell_type": "markdown",
   "metadata": {},
   "source": [
    "The first question I asked is, are day/night games affected by D/L more than day games?"
   ]
  },
  {
   "cell_type": "code",
   "execution_count": 3,
   "metadata": {},
   "outputs": [],
   "source": [
    "import matplotlib.pyplot as plt\n",
    "allDN =sum(allMerged[' day_n_night']==1)*100./len(allMerged)\n",
    "DLDN = sum(DLmerged[' day_n_night']==1)*100./len(DLmerged)\n",
    "plt.bar(range(2),[allDN, DLDN])\n",
    "plt.xticks([0.5,1.5], [\"All\", \"D/L affected\"])\n",
    "plt.ylabel(\"% of day & night matches\")\n",
    "#plt.savefig(\"../figures/01-DL-DN.png\")\n",
    "plt.show()"
   ]
  },
  {
   "cell_type": "markdown",
   "metadata": {},
   "source": [
    "<img align=center src=\"test/01-DL-DN.png\" width=\"400\" height=\"400\"/>\n",
    "\n",
    "Clearly, day & night games are affected more by D/L.\n",
    "\n",
    "The next question I ask is, does D/L affect matches at all locations (countries)?"
   ]
  },
  {
   "cell_type": "code",
   "execution_count": null,
   "metadata": {
    "collapsed": true
   },
   "outputs": [],
   "source": [
    "totalCountries = len(allMerged['country'].value_counts())\n",
    "DLcountries = len(DLmerged['country'].value_counts())\n",
    "plt.bar(range(2),[totalCountries, DLcountries])\n",
    "plt.xticks([0.5,1.5], [\"All\", \"D/L affected\"])\n",
    "plt.ylabel(\"Number of countries\")\n",
    "plt.savefig(\"../figures/01-DL-countries.png\")\n",
    "plt.show() "
   ]
  },
  {
   "cell_type": "markdown",
   "metadata": {},
   "source": [
    "<img align=center src=\"../figures/02-DL-countries.png\" width=\"400\" height=\"400\"/>\n",
    "\n",
    "We see that out of 41 countries where cricket is played in, only 24 has had matches affected by D/L so far.\n",
    "\n",
    "\n",
    "Next, I looked at how does location (country) affect the number of matches that gets affected by D/L?"
   ]
  },
  {
   "cell_type": "code",
   "execution_count": null,
   "metadata": {
    "collapsed": true
   },
   "outputs": [],
   "source": [
    "def plotCountries(df, save=0, fName=\"test.png\"):\n",
    "    countries = df['country'].value_counts()\n",
    "    names = list(countries.index)\n",
    "    # Renaming some of the countries to make the labels look better\n",
    "    if (\"United States of America\" in names):\n",
    "        ind = names.index(\"United States of America\")\n",
    "        names[ind] = \"USA\"\n",
    "    if (\"United Arab Emirates\" in names):\n",
    "        ind = names.index(\"United Arab Emirates\")\n",
    "        names[ind] = \"UAE\"\n",
    "    if (\"Papua New Guinea\" in names):\n",
    "        ind = names.index(\"Papua New Guinea\")\n",
    "        names[ind] = \"PNG\"\n",
    "    if (\"Cayman Islands\" in names):\n",
    "        ind = names.index(\"Cayman Islands\")\n",
    "        names[ind] = \"KY\"\n",
    "    # Done\n",
    "    xVals = np.array(range(len(countries)))\n",
    "    plt.bar(xVals, countries)\n",
    "    plt.xticks(xVals+0.5,names,rotation='vertical')\n",
    "    plt.gcf().subplots_adjust(bottom=0.3)\n",
    "    if (save):\n",
    "        plt.savefig(\"../figures/\"+fName) \n",
    "    plt.show()\n",
    "\n",
    "plotCountries(DLmerged, save=1, fName=\"03-DL-countries.png\")"
   ]
  },
  {
   "cell_type": "markdown",
   "metadata": {},
   "source": [
    "<img align=center src=\"./figures/03-DL-countries.png\" width=\"500\" height=\"400\"/>\n",
    "\n",
    "At first look, it appears that England has the highest instances of matches being affected by D/L. However, this might simply be due to more number of matches being played in England. In other words, highest instances need not mean highest probability.\n",
    "\n",
    "So we need to look at the number of matches played per country. Since D/L comes into play only in limited over games, we choose only to focus on the four categories, namely, \"ODI\", \"LISTA\", \"T20I\" and \"T20\", and leave out \"TEST\" and \"FC\"."
   ]
  },
  {
   "cell_type": "code",
   "execution_count": null,
   "metadata": {
    "collapsed": true
   },
   "outputs": [],
   "source": [
    "limitedDat = dat[(dat[' type_of_match']!='TEST') & (dat[' type_of_match']!='FC')]\n",
    "limMerged = mergeGrounds(limitedDat, groundsDat)\n",
    "plotCountries(limMerged,save=1, fName=\"04-All-countries.png\")"
   ]
  },
  {
   "cell_type": "markdown",
   "metadata": {},
   "source": [
    "<img align=center src=\"./figures/04-All-countries.png\" width=\"500\" height=\"400\"/>\n",
    "\n",
    "We see that the hunch was right. The higher occurrence of D/L affected matches in England was simply due to the higher number of matches being played in England. We need to look at the percentage of matches being affected by D/L instead of the number of them."
   ]
  },
  {
   "cell_type": "code",
   "execution_count": null,
   "metadata": {
    "collapsed": true
   },
   "outputs": [],
   "source": [
    "def plotCountriesPerc(df, dfRef, save=0, fName = \"test.png\"):\n",
    "    countries = df['country'].value_counts().sort_index()\n",
    "    allMatchCountries = dfRef['country'].value_counts().sort_index()\n",
    "    percDL = (100.0*countries/allMatchCountries).sort_values(ascending=False)\n",
    "    names = list(percDL.index)\n",
    "    # Renaming \"United States of America\" to USA and \"United Arab Emirates\" to UAE to make the labels look better\n",
    "    if (\"United States of America\" in names):\n",
    "        ind = names.index(\"United States of America\")\n",
    "        names[ind] = \"USA\"\n",
    "    if (\"United Arab Emirates\" in names):\n",
    "        ind = names.index(\"United Arab Emirates\")\n",
    "        names[ind] = \"UAE\"\n",
    "    if (\"Papua New Guinea\" in names):\n",
    "        ind = names.index(\"Papua New Guinea\")\n",
    "        names[ind] = \"PNG\"\n",
    "    if (\"Cayman Islands\" in names):\n",
    "        ind = names.index(\"Cayman Islands\")\n",
    "        names[ind] = \"KY\"\n",
    "    ## Done\n",
    "    xVals = np.array(range(len(percDL)))\n",
    "    plt.bar(xVals, percDL)\n",
    "    plt.xticks(xVals+0.5,names,rotation='vertical')\n",
    "    plt.ylabel(\"% of games affected by D/L\")\n",
    "    plt.gcf().subplots_adjust(bottom=0.2)\n",
    "    if (save):\n",
    "        plt.savefig(\"../figures/\"+fName) \n",
    "    plt.show()\n",
    "\n",
    "limMergedCountries = limMerged[limMerged['country'].isin(DLmerged['country'])]\n",
    "plotCountriesPerc(DLmerged,limMergedCountries, save=1, fName='05-DL-countries-percentage.png')"
   ]
  },
  {
   "cell_type": "markdown",
   "metadata": {},
   "source": [
    "<img align=center src=\"./figures/05-DL-countries-percentage.png\" width=\"500\" height=\"400\"/>\n",
    " \n",
    "Now we see a totally different picture. At this point, let us focus on the countries where most games are played. Let us choose 1000 games as an arbitrary cut-off for the countries we want to include in the analysis.\n"
   ]
  },
  {
   "cell_type": "code",
   "execution_count": null,
   "metadata": {
    "collapsed": true
   },
   "outputs": [],
   "source": [
    "countries = limMerged['country'].value_counts()\n",
    "names = list(countries.index)\n",
    "topCountries = list(countries[countries > 1000].index)\n",
    "topMergedCountries = limMerged[limMerged['country'].isin(topCountries)]\n",
    "topDLcountries = DLmerged[DLmerged['country'].isin(topMergedCountries['country'])]\n",
    "plotCountriesPerc(topDLcountries, topMergedCountries, save=1, fName='06-DL-topCountries-percentage.png')"
   ]
  },
  {
   "cell_type": "markdown",
   "metadata": {
    "collapsed": true
   },
   "source": [
    "\n"
   ]
  },
  {
   "cell_type": "markdown",
   "metadata": {
    "collapsed": true
   },
   "source": [
    "<img align=center src=\"./figures/06-DL-topCountries-percentage.png\" width=\"600\" height=\"400\"/>\n",
    "\n",
    "The next question I ask is, is there a correlation between the time of the year when the match is being played and the probability of the match being affected by D/L?"
   ]
  },
  {
   "cell_type": "code",
   "execution_count": null,
   "metadata": {
    "collapsed": true
   },
   "outputs": [],
   "source": [
    "############################![title](./figures/01-DL-countries.png)\n"
   ]
  }
 ],
 "metadata": {
  "kernelspec": {
   "display_name": "Python 2",
   "language": "python",
   "name": "python2"
  },
  "language_info": {
   "codemirror_mode": {
    "name": "ipython",
    "version": 2
   },
   "file_extension": ".py",
   "mimetype": "text/x-python",
   "name": "python",
   "nbconvert_exporter": "python",
   "pygments_lexer": "ipython2",
   "version": "2.7.6"
  }
 },
 "nbformat": 4,
 "nbformat_minor": 2
}
