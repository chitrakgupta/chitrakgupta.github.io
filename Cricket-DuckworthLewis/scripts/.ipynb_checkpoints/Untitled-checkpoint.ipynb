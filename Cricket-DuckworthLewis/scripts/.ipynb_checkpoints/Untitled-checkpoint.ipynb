{
 "cells": [
  {
   "cell_type": "markdown",
   "metadata": {},
   "source": [
    "First I read the final output data into a pandas data frame and select the matches which were affected by D/L. Then I read the grounds data into another pandas data frame.\n",
    "\n",
    "    import pandas as pd\n",
    "    dat = pd.read_csv(\"../data/final_output.csv\")\n",
    "    DL = dat[dat[' duckworth_lewis']==1]\n",
    "    groundsDat = pd.read_csv(\"../data/grounds.csv\")\n",
    "    \n",
    "Now, I define a function to merge the two final output data and the grounds data. Then do this merging for the \"all\" data set (\"dat\") and the subset of matches affected by D/L (\"DL\").\n",
    "\n",
    "    def mergeGrounds(df, grounds):\n",
    "        # Get rid of the spaces in the names of grounds\n",
    "        df.rename(columns={' ground': 'ground'}, inplace=True)\n",
    "        df['ground'] = df['ground'].str.strip()\n",
    "        return pd.merge(df, grounds, on='ground')\n",
    "\n",
    "    DLmerged = mergeGrounds(DL, groundsDat)\n",
    "    allMerged = mergeGrounds(dat, groundsDat)\n",
    "\n",
    "Some data was lost here because some games were played at grounds whose ground information is not available. However, the percentage of lost data is not very high.\n",
    "\n",
    "    print \"Out of \", dat.shape[0], \" games, \", allMerged.shape[0], \" are being retained\"\n",
    "    print \"That is \", allMerged.shape[0]*100./dat.shape[0], \"% of total matches\"\n",
    "\n",
    "\n",
    "The first question I ask is, how does location (country) affect the number of matches that gets affected by D/L?\n",
    "\n",
    "    import matplotlib.pyplot as plt\n",
    "    totalCountries = len(allMerged['country'].value_counts())\n",
    "    DLcountries = len(DLmerged['country'].value_counts())\n",
    "    plt.bar(range(2),[totalCountries, DLcountries])\n",
    "    plt.xticks([0.5,1.5], [\"All\", \"D/L affected\"])\n",
    "    plt.ylabel(\"Number of countries\")\n",
    "    plt.savefig(\"../figures/01-DL-countries.png\")\n",
    "    plt.show()"
   ]
  },
  {
   "cell_type": "code",
   "execution_count": null,
   "metadata": {
    "collapsed": true
   },
   "outputs": [],
   "source": []
  }
 ],
 "metadata": {
  "kernelspec": {
   "display_name": "Python 2",
   "language": "python",
   "name": "python2"
  },
  "language_info": {
   "codemirror_mode": {
    "name": "ipython",
    "version": 2
   },
   "file_extension": ".py",
   "mimetype": "text/x-python",
   "name": "python",
   "nbconvert_exporter": "python",
   "pygments_lexer": "ipython2",
   "version": "2.7.6"
  }
 },
 "nbformat": 4,
 "nbformat_minor": 2
}
