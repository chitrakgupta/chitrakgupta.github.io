{
 "cells": [
  {
   "cell_type": "markdown",
   "metadata": {},
   "source": [
    "import pandas as pd\n",
    "import matplotlib.pyplot as plt\n",
    "import numpy as np\n",
    "# Read data\n",
    "## Level 2 heading\n",
    "dat = pd.read_csv(\"../data/final_output.csv\")\n",
    "# Read ground information\n",
    "groundsDat = pd.read_csv(\"../data/grounds.csv\")"
   ]
  },
  {
   "cell_type": "markdown",
   "metadata": {
    "collapsed": true
   },
   "source": [
    "#groundsList = groundsDat['ground']\n",
    "# Select the matches affected by D/L\n",
    "DL = dat[dat[' duckworth_lewis']==1]\n",
    "# Calculate % of matches affected by D/L\n",
    "percNA = sum(pd.isnull(DL[' ground']))*100./len(dat)\n",
    "# Select the grounds where D/L came into play\n",
    "DLgrounds = DL[' ground']"
   ]
  },
  {
   "cell_type": "code",
   "execution_count": 3,
   "metadata": {
    "collapsed": true
   },
   "outputs": [],
   "source": [
    "#uniqueDLgrounds = DLgrounds.unique()\n",
    "#for i in range(0,len(uniqueDLgrounds)):\n",
    "#    thisGround = uniqueDLgrounds[i].strip()\n",
    "#    if (groundsDat['ground'].str.contains(thisGround).sum() == 0):\n",
    "        ####missingCities.append(uniqueCityList[i])\n",
    "#        print uniqueDLgrounds[i]"
   ]
  },
  {
   "cell_type": "markdown",
   "metadata": {
    "collapsed": true
   },
   "source": [
    "# def mergeGrounds(df, grounds):\n",
    "    # Get rid of the spaces in the names of grounds\n",
    "    df.rename(columns={' ground': 'ground'}, inplace=True)\n",
    "    df['ground'] = df['ground'].str.strip()\n",
    "    return pd.merge(df, grounds, on='ground')"
   ]
  },
  {
   "cell_type": "code",
   "execution_count": 9,
   "metadata": {
    "scrolled": true
   },
   "outputs": [
    {
     "name": "stderr",
     "output_type": "stream",
     "text": [
      "/usr/local/lib/python2.7/dist-packages/ipykernel_launcher.py:4: SettingWithCopyWarning: \n",
      "A value is trying to be set on a copy of a slice from a DataFrame.\n",
      "Try using .loc[row_indexer,col_indexer] = value instead\n",
      "\n",
      "See the caveats in the documentation: http://pandas.pydata.org/pandas-docs/stable/indexing.html#indexing-view-versus-copy\n",
      "  after removing the cwd from sys.path.\n"
     ]
    }
   ],
   "source": [
    "# Merge ground information with everything else\n",
    "DLmerged = mergeGrounds(DL, groundsDat)\n"
   ]
  },
  {
   "cell_type": "code",
   "execution_count": 10,
   "metadata": {
    "collapsed": true
   },
   "outputs": [],
   "source": [
    "def plotCountries(df, show=1, fName=\"test.png\"):\n",
    "    countries = df['country'].value_counts()\n",
    "    names = list(countries.index)\n",
    "    # This part is just to make the xlabels look better\n",
    "    # Renaming \"United States of America\" to USA\n",
    "    ind = names.index(\"United States of America\")\n",
    "    names[ind] = \"USA\"\n",
    "    # Done\n",
    "    xVals = np.array(range(len(countries)))\n",
    "    plt.bar(xVals, countries)\n",
    "    plt.xticks(xVals+0.5,names,rotation='vertical')\n",
    "    plt.gcf().subplots_adjust(bottom=0.3)\n",
    "    if (show):\n",
    "        plt.show()\n",
    "    else:\n",
    "        plt.savefig(fName)"
   ]
  },
  {
   "cell_type": "code",
   "execution_count": 7,
   "metadata": {
    "collapsed": true
   },
   "outputs": [],
   "source": [
    "def plotMonths(df,show=1):\n",
    "    Months = df[' date'].str.split().apply(pd.Series, 1).stack()[:,0]\n",
    "    monthCounts = Months.value_counts()\n",
    "    if (len(monthCounts)>12):\n",
    "        monthCounts = monthCounts[:12]\n",
    "        \n",
    "    names = list(monthCounts.index)\n",
    "    xVals = np.array(range(len(monthCounts)))\n",
    "    plt.bar(xVals, monthCounts/np.sum(monthCounts))\n",
    "    plt.xticks(xVals+0.5, names, rotation='vertical')\n",
    "    if (show):\n",
    "        plt.show()\n",
    "    else:\n",
    "        plt.savefig(\"DuckworthLewis-months.png\")"
   ]
  },
  {
   "cell_type": "markdown",
   "metadata": {
    "collapsed": true
   },
   "source": [
    "# Give heading 1\n",
    "## Give heading 2\n",
    "Write whatever stuff\n",
    "\n",
    "    plotCountries(DLmerged)\n",
    "    plotMonths(DLmerged)\n",
    "    \n",
    "![title](01-DL-countries.png)"
   ]
  },
  {
   "cell_type": "code",
   "execution_count": 9,
   "metadata": {
    "collapsed": true,
    "scrolled": true
   },
   "outputs": [],
   "source": [
    "if (False):\n",
    "    ## Verifying that we aren't losing much in removing the months that are not months\n",
    "    Months = allMerged[' date'].str.split().apply(pd.Series, 1).stack()[:,0]\n",
    "    monthCounts = Months.value_counts()\n",
    "    print np.cumsum(monthCounts)[11]*100./np.cumsum(monthCounts)[-1]\n",
    "\n",
    "    allMerged = process(dat, groundsDat)\n",
    "    plotMonths(allMerged)"
   ]
  },
  {
   "cell_type": "code",
   "execution_count": 10,
   "metadata": {
    "collapsed": true
   },
   "outputs": [],
   "source": [
    "Months = DLmerged[' date'].str.split().apply(pd.Series, 1).stack()[:,0]\n",
    "DLmerged['month'] = Months\n",
    "import datetime\n",
    "months = {datetime.datetime(2000,i,1).strftime(\"%b\"): i for i in range(1, 13)}\n",
    "DLmerged['month_number'] = DLmerged['month'].map(months)"
   ]
  },
  {
   "cell_type": "code",
   "execution_count": 11,
   "metadata": {
    "collapsed": true
   },
   "outputs": [],
   "source": [
    "#t=DLmerged.groupby(['country','month']).size()\n",
    "# The following will return a data frame\n",
    "#t=DLmerged.groupby(['country','month']).size().reset_index(name=\"Occurrence\")\n",
    "# Even the following gives a data frame\n",
    "#t=pd.crosstab(DLmerged.country, DLmerged.month)\n",
    "# Country names are t.index\n",
    "# Month names are t.columns.values"
   ]
  },
  {
   "cell_type": "code",
   "execution_count": 12,
   "metadata": {
    "collapsed": true
   },
   "outputs": [],
   "source": [
    "import calendar\n",
    "from matplotlib import cm\n",
    "def plotCountriesAndMonths(df,show=1):\n",
    "    grouped = pd.crosstab(df.country,df.month_number)\n",
    "    groupedMatrix = grouped.as_matrix()\n",
    "    monthNames=[]\n",
    "    for i in range(1,13):\n",
    "        monthNames.append(calendar.month_abbr[i])\n",
    "\n",
    "    plt.figure(figsize=(8,8))\n",
    "    ax = plt.gca()\n",
    "    mat = ax.matshow(groupedMatrix, cmap=cm.Reds)\n",
    "    ax.set_xticks(range(12))\n",
    "    ax.set_xticklabels(monthNames, rotation=90)\n",
    "    ax.set_yticks(range(groupedMatrix.shape[0]))\n",
    "    ax.set_yticklabels(list(grouped.index))\n",
    "    plt.colorbar(mat)\n",
    "    #plt.gcf().subplots_adjust(left=0.5)\n",
    "    if (show):\n",
    "        plt.show()\n",
    "    else:\n",
    "        plt.savefig(\"DuckworthLewis-MonthsAndCountries.png\")"
   ]
  },
  {
   "cell_type": "code",
   "execution_count": 13,
   "metadata": {},
   "outputs": [
    {
     "name": "stderr",
     "output_type": "stream",
     "text": [
      "/usr/lib/pymodules/python2.7/matplotlib/collections.py:548: FutureWarning: elementwise comparison failed; returning scalar instead, but in the future will perform elementwise comparison\n",
      "  if self._edgecolors == 'face':\n"
     ]
    }
   ],
   "source": [
    "plotCountriesAndMonths(DLmerged)"
   ]
  },
  {
   "cell_type": "code",
   "execution_count": 14,
   "metadata": {},
   "outputs": [
    {
     "name": "stderr",
     "output_type": "stream",
     "text": [
      "/usr/local/lib/python2.7/dist-packages/ipykernel_launcher.py:4: SettingWithCopyWarning: \n",
      "A value is trying to be set on a copy of a slice from a DataFrame.\n",
      "Try using .loc[row_indexer,col_indexer] = value instead\n",
      "\n",
      "See the caveats in the documentation: http://pandas.pydata.org/pandas-docs/stable/indexing.html#indexing-view-versus-copy\n",
      "  after removing the cwd from sys.path.\n"
     ]
    }
   ],
   "source": [
    "limitedDat = dat[(dat[' type_of_match']!='TEST') & (dat[' type_of_match']!='FC')]\n",
    "#print DLmerged[' type_of_match'].value_counts()\n",
    "#print limitedDat[' type_of_match'].value_counts()\n",
    "limMerged = process(limitedDat, groundsDat)"
   ]
  },
  {
   "cell_type": "code",
   "execution_count": 15,
   "metadata": {
    "collapsed": true
   },
   "outputs": [],
   "source": [
    "plotCountries(limMerged,show=1, fName=\"All-countries.png\")\n",
    "## This plot shows that we probably need to scale things by number of matches played\n",
    "#plotMonths(limMerged)"
   ]
  },
  {
   "cell_type": "code",
   "execution_count": 16,
   "metadata": {
    "collapsed": true
   },
   "outputs": [],
   "source": [
    "#DLcountries = DLmerged['country'].unique()\n",
    "#allCountries = limMerged['country'].unique()\n",
    "allDLcountries = limMerged[limMerged['country'].isin(DLmerged['country'])]"
   ]
  },
  {
   "cell_type": "code",
   "execution_count": 17,
   "metadata": {
    "collapsed": true,
    "scrolled": true
   },
   "outputs": [],
   "source": [
    "allMatchCountries = allDLcountries['country'].value_counts().sort_index()\n",
    "DLmatchCountries = DLmerged['country'].value_counts().sort_index()\n",
    "percDL = (100.0*DLmatchCountries/allMatchCountries).sort_values(ascending=False)\n",
    "names = list(percDL.index)\n",
    "## This part is just to make the xlabels look better\n",
    "## Renaming \"United States of America\" to USA\n",
    "ind = names.index(\"United States of America\")\n",
    "names[ind] = \"USA\"\n",
    "## Done\n",
    "xVals = np.array(range(len(percDL)))\n",
    "plt.bar(xVals, percDL)\n",
    "plt.xticks(xVals+0.5,names,rotation='vertical')\n",
    "plt.ylabel(\"% of games affected by D/L\")\n",
    "plt.gcf().subplots_adjust(bottom=0.2)\n",
    "plt.show()"
   ]
  },
  {
   "cell_type": "code",
   "execution_count": 18,
   "metadata": {
    "scrolled": true
   },
   "outputs": [
    {
     "name": "stderr",
     "output_type": "stream",
     "text": [
      "/usr/local/lib/python2.7/dist-packages/ipykernel_launcher.py:2: SettingWithCopyWarning: \n",
      "A value is trying to be set on a copy of a slice from a DataFrame.\n",
      "Try using .loc[row_indexer,col_indexer] = value instead\n",
      "\n",
      "See the caveats in the documentation: http://pandas.pydata.org/pandas-docs/stable/indexing.html#indexing-view-versus-copy\n",
      "  \n",
      "/usr/local/lib/python2.7/dist-packages/ipykernel_launcher.py:3: SettingWithCopyWarning: \n",
      "A value is trying to be set on a copy of a slice from a DataFrame.\n",
      "Try using .loc[row_indexer,col_indexer] = value instead\n",
      "\n",
      "See the caveats in the documentation: http://pandas.pydata.org/pandas-docs/stable/indexing.html#indexing-view-versus-copy\n",
      "  This is separate from the ipykernel package so we can avoid doing imports until\n",
      "/usr/local/lib/python2.7/dist-packages/ipykernel_launcher.py:10: RuntimeWarning: invalid value encountered in divide\n",
      "  # Remove the CWD from sys.path while we load stuff.\n"
     ]
    }
   ],
   "source": [
    "allDLMonths = allDLcountries[' date'].str.split().apply(pd.Series, 1).stack()[:,0]\n",
    "allDLcountries['month'] = allDLMonths\n",
    "allDLcountries['month_number'] = allDLcountries['month'].map(months)\n",
    "DLcrossTab = pd.crosstab(DLmerged.country,DLmerged.month_number)\n",
    "allcrossTab = pd.crosstab(allDLcountries.country, allDLcountries.month_number)\n",
    "DLmatrix = DLcrossTab.as_matrix()\n",
    "allmatrix = allcrossTab.as_matrix()\n",
    "\n",
    "allmatrix == 0\n",
    "perc = 100.0*DLmatrix/allmatrix\n",
    "realPerc = np.nan_to_num(perc)\n",
    "\n",
    "monthNames=[]\n",
    "for i in range(1,13):\n",
    "    monthNames.append(calendar.month_abbr[i])\n",
    "\n",
    "plt.figure(figsize=(8,8))\n",
    "ax = plt.gca()\n",
    "mat = ax.matshow(realPerc, cmap=cm.Reds)\n",
    "ax.set_xticks(range(12))\n",
    "ax.set_xticklabels(monthNames, rotation=90)\n",
    "ax.set_yticks(range(realPerc.shape[0]))\n",
    "ax.set_yticklabels(list(DLcrossTab.index))\n",
    "plt.colorbar(mat)\n",
    "plt.show()\n",
    "#plt.savefig(\"DuckworthLewis-MonthsAndCountries-perc.png\")"
   ]
  },
  {
   "cell_type": "code",
   "execution_count": 19,
   "metadata": {},
   "outputs": [
    {
     "name": "stdout",
     "output_type": "stream",
     "text": [
      "day & night, given D/L :\t15.5347384856\n",
      "da & night, overall :\t\t11.4738686381\n"
     ]
    }
   ],
   "source": [
    "# % of games where D/L came into play which were day & night\n",
    "print \"day & night, given D/L :\\t\" + str(sum(DLmerged[' day_n_night']==1)*100./len(DLmerged))\n",
    "# overall % of games that were day & night\n",
    "print \"da & night, overall :\\t\\t\" + str(sum(allDLcountries[' day_n_night']==1)*100./len(allDLcountries))"
   ]
  },
  {
   "cell_type": "code",
   "execution_count": 20,
   "metadata": {},
   "outputs": [
    {
     "name": "stdout",
     "output_type": "stream",
     "text": [
      "1\n",
      "1\n"
     ]
    }
   ],
   "source": [
    "print sum(DLmerged[' bat_or_bowl'].isnull())\n",
    "print sum(DLmerged[' win_toss'].isnull())"
   ]
  },
  {
   "cell_type": "code",
   "execution_count": 34,
   "metadata": {
    "collapsed": true
   },
   "outputs": [],
   "source": [
    "def TossChoiceResult(df):\n",
    "    #TossChoiceResult = DLmerged[' win_toss'].to_frame().join(DLmerged[' bat_or_bowl'].to_frame()).join(DLmerged[' win_game'].to_frame())\n",
    "    TossChoiceResult = df[[' team1', ' team2', ' win_toss', ' bat_or_bowl', ' win_game', ' type_of_match']]\n",
    "    batFirst = []\n",
    "    for i in range(TossChoiceResult.shape[0]):\n",
    "        if (TossChoiceResult[' bat_or_bowl'][i] == 'bat'):\n",
    "            batFirst.append(TossChoiceResult[' win_toss'][i])\n",
    "        else:\n",
    "            if (TossChoiceResult[' win_toss'][i] == TossChoiceResult[' team1'][i]):\n",
    "                batFirst.append(TossChoiceResult[' team2'][i])\n",
    "            else:\n",
    "                batFirst.append(TossChoiceResult[' team1'][i])\n",
    "            \n",
    "    TossChoiceResult['bat_first'] = batFirst\n",
    "    batFirstWin = TossChoiceResult[TossChoiceResult[' win_game'] == TossChoiceResult['bat_first']]\n",
    "    return batFirstWin, sum(TossChoiceResult[' win_game'] == TossChoiceResult['bat_first'])*100./TossChoiceResult.shape[0]"
   ]
  },
  {
   "cell_type": "code",
   "execution_count": 35,
   "metadata": {},
   "outputs": [
    {
     "name": "stderr",
     "output_type": "stream",
     "text": [
      "/usr/local/lib/python2.7/dist-packages/ipykernel_launcher.py:14: SettingWithCopyWarning: \n",
      "A value is trying to be set on a copy of a slice from a DataFrame.\n",
      "Try using .loc[row_indexer,col_indexer] = value instead\n",
      "\n",
      "See the caveats in the documentation: http://pandas.pydata.org/pandas-docs/stable/indexing.html#indexing-view-versus-copy\n",
      "  \n"
     ]
    },
    {
     "name": "stdout",
     "output_type": "stream",
     "text": [
      "45.3551912568\n",
      "45.0450835434\n"
     ]
    }
   ],
   "source": [
    "DLresult, DLresultCount = TossChoiceResult(DLmerged)\n",
    "print DLresultCount\n",
    "allDLcountries.index = range(allDLcountries.shape[0])\n",
    "allResult, allResultCount = TossChoiceResult(allDLcountries)\n",
    "print allResultCount"
   ]
  },
  {
   "cell_type": "code",
   "execution_count": 43,
   "metadata": {
    "collapsed": true
   },
   "outputs": [],
   "source": [
    "DLresultMatchTypes = DLresult[' type_of_match'].value_counts()\n",
    "allResultMatchTypes = allResult[' type_of_match'].value_counts()\n",
    "fig1 = plt.figure(figsize=(12,6))\n",
    "plt.subplot(121)\n",
    "#DLmatchTypes.plot.pie()\n",
    "plt.pie(DLresultMatchTypes, labels = list(DLresultMatchTypes.index), autopct='%1.1f%%')\n",
    "plt.title(\"D/L affected\")\n",
    "plt.subplot(122)\n",
    "plt.pie(allResultMatchTypes, labels = list(allResultMatchTypes.index), autopct='%1.1f%%')\n",
    "plt.title(\"Overall\")\n",
    "plt.show()\n",
    "#plt.savefig(\"DL-batFirstWin-matchTypes-pieChart.png\")"
   ]
  },
  {
   "cell_type": "code",
   "execution_count": 99,
   "metadata": {
    "collapsed": true
   },
   "outputs": [],
   "source": [
    "DLmatchTypes = DLmerged[' type_of_match'].value_counts()\n",
    "allmatchTypes = allDLcountries[' type_of_match'].value_counts()\n",
    "fig1 = plt.figure(figsize=(12,6))\n",
    "plt.subplot(121)\n",
    "#DLmatchTypes.plot.pie()\n",
    "plt.pie(DLmatchTypes, labels = list(DLmatchTypes.index), autopct='%1.1f%%')\n",
    "plt.title(\"D/L affected\")\n",
    "#plt.show(block=False)\n",
    "#allmatchTypes.plot.pie()\n",
    "plt.subplot(122)\n",
    "plt.pie(allmatchTypes, labels = list(allmatchTypes.index), autopct='%1.1f%%')\n",
    "plt.title(\"Overall\")\n",
    "plt.show()\n",
    "#plt.savefig(\"DL-matchTypes-pieChart.png\")"
   ]
  }
 ],
 "metadata": {
  "kernelspec": {
   "display_name": "Python 2",
   "language": "python",
   "name": "python2"
  },
  "language_info": {
   "codemirror_mode": {
    "name": "ipython",
    "version": 2
   },
   "file_extension": ".py",
   "mimetype": "text/x-python",
   "name": "python",
   "nbconvert_exporter": "python",
   "pygments_lexer": "ipython2",
   "version": "2.7.6"
  }
 },
 "nbformat": 4,
 "nbformat_minor": 2
}
