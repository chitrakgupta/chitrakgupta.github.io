{
 "cells": [
  {
   "cell_type": "markdown",
   "metadata": {},
   "source": [
    "&nbsp;&nbsp;&nbsp;&nbsp; [Home](https://chitrakgupta.github.io) &nbsp;&nbsp;&nbsp;&nbsp; [LinkedIn](https://www.linkedin.com/in/chitrak-gupta-5474b9115/) &nbsp;&nbsp;&nbsp;&nbsp; [Research](https://chitrakgupta.github.io/Research/) &nbsp;&nbsp;&nbsp;&nbsp; [Publications](https://chitrakgupta.github.io/Publications/) &nbsp;&nbsp;&nbsp;&nbsp; [Mertz Lab](http://www.mertzlab-biophysics.com) &nbsp;&nbsp;&nbsp;&nbsp; [Volunteering](http://chitrakgupta.github.io/Volunteering/)&nbsp;&nbsp;&nbsp;&nbsp; [BPS blog](https://chitrakgupta.github.io/BPSblog/)\n",
    "\n",
    "# Publications\n",
    "\n",
    "1. [Protonation Enhances the Inherent Helix-Forming Propensity of pHLIP](https://pubs.acs.org/doi/full/10.1021/acsomega.7b01371), **Gupta, C.**, Mertz, B.\n",
    "\n",
    "\n",
    "2. [A Novel Approach to Battlefield Wound Assessment and Treatment for Forward Surgical Teams](https://www.hdiac.org/node/5127), N. Prince, B. Popp, Ph.D., B. Mertz, Ph.D., **C. Gupta**, & J. Boyd, Ph.D.\n"
   ]
  },
  {
   "cell_type": "code",
   "execution_count": null,
   "metadata": {},
   "outputs": [],
   "source": []
  }
 ],
 "metadata": {
  "kernelspec": {
   "display_name": "Python 2",
   "language": "python",
   "name": "python2"
  },
  "language_info": {
   "codemirror_mode": {
    "name": "ipython",
    "version": 2
   },
   "file_extension": ".py",
   "mimetype": "text/x-python",
   "name": "python",
   "nbconvert_exporter": "python",
   "pygments_lexer": "ipython2",
   "version": "2.7.15"
  }
 },
 "nbformat": 4,
 "nbformat_minor": 2
}
