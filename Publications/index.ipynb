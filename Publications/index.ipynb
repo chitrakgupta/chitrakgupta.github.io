{
 "cells": [
  {
   "cell_type": "markdown",
   "metadata": {},
   "source": [
    "# Publications\n",
    "\n",
    "## Book chapters\n",
    "\n",
    "1\\. [Molecular dynamics flexible fitting: All you want to know about resolution exchange](https://link.springer.com/protocol/10.1007%2F978-1-0716-0708-4_18), Vant. J., Sarkar, D., **Gupta, C**, Shekhar, M., Mittal, S., and Singharoy, A., Methods in Molecular Biology, Vol. 2165 (Protein structure and prediction), 301-315, 2020\n",
    "\n",
    "\n",
    "## Papers\n",
    "\n",
    "### 2020\n",
    "\n",
    "10\\. CryoFold: molecular dynamics ensemble fitting to electron density maps, Shekhar, M., Terashi, G., **Gupta, C.**, Debussche, G., Sisco, N. J., Nguyen, J., Zook, J., Vant, J., Sarkar, D., Fromme, P., Van Horn W. D., Dill, K., Kihara, D., Tajkhorshid, E., Perez, and Singharoy, A., Science Advances (Submitted)\n",
    "\n",
    "biorxiv link: https://www.biorxiv.org/content/10.1101/687087v3\n",
    "\n",
    "9\\. [Charge transfer and chemo-mechanical coupling in respiratory complex I](https://pubs.acs.org/doi/10.1021/jacs.9b13450), **Gupta, C.**, Khaniya, U., Chan C. K., Dehez, F., Shekhar, M., Gunner M. R., Sazanov, L., Chipot, C., and Singharoy, A., Journal of the American Chemical Society, 142 (20), 9220-9230, 2020\n",
    "\n",
    "8\\. [Hydrogen bond network analysis reveals the pathway for the proton transfer in the E-channel of T. thermophilus Complex I](https://www.sciencedirect.com/science/article/abs/pii/S0005272820300906), Khaniya, U., **Gupta, C.**, Cai, X., Mao, J., Kaur, D., Zhang, Y., Singharoy, A., and Gunner, M. R., Biochimica et Biophysica Acta, 1861 (10), 148240, 2020\n",
    "\n",
    "7\\. [XFEL and NMR Structures of Francisella Lipoprotein Reveal Conformational Space of Drug Target against Tularemia](https://www.cell.com/structure/fulltext/S0969-2126%2820%2930046-0), Zook et. al., Structure, 28, 1-8, 2020\n",
    "\n",
    "\n",
    "### 2019\n",
    "\n",
    "5\\. [Ions modulate interactions between pHLIP and lipid membranes](https://www.sciencedirect.com/science/article/abs/pii/S000634951930623X), Westerfield, J., **Gupta, C.**, Scott, H., Ye, Y., Cameron, A., Mertz, B., and Barrera, F., Biophysical Journal, 117, 920-929, 2019\n",
    "\n",
    "\n",
    "### 2018\n",
    "\n",
    "4\\. [Cooperative Non-bonded Forces Control Membrane Binding of the pH-Low Insertion Peptide pHLIP](https://www.cell.com/biophysj/fulltext/S0006-3495%2818%2931221-9), **Gupta, C.**, Ren, and Y., Mertz, B., Biophysical Journal, 115, 2403-2412, 2018\n",
    "\n",
    "3\\. [Peptide Bond Conformation in Peptides and Proteins Probed by Dipolar Coupling-Chemical Shift Tensor Correlation Solid-State NMR](https://www.sciencedirect.com/science/article/pii/S1090780718302908), Mukhopadhyay, D., **Gupta, C.**, Theint, T., and Jaroniec, C.P., Journal of Magnetic Resonance, 297, 152-160, 2018\n",
    "\n",
    "\n",
    "### 2017\n",
    "\n",
    "2\\. [Protonation Enhances the Inherent Helix-Forming Propensity of pHLIP](https://pubs.acs.org/doi/full/10.1021/acsomega.7b01371), **Gupta, C.**, and Mertz, B., ACS Omega, 2(11), 8536-8542, 2017\n",
    "\n",
    "\n",
    "1\\. [A Novel Approach to Battlefield Wound Assessment and Treatment for Forward Surgical Teams](https://www.hdiac.org/wp-content/uploads/2018/04/V4I1_A_Novel_Approach_to_Battlefield_Wound_Assessment_and_Treatment_for_Forward_Surgical_Teams-1.pdf), N. Prince, B. Popp, Ph.D., B. Mertz, Ph.D., **C. Gupta**, and J. Boyd, Ph.D., The Journal of Homeland Defense and Security Information\n",
    "Analysis Center, 4(1), Spring 2017\n"
   ]
  }
 ],
 "metadata": {
  "kernelspec": {
   "display_name": "Python 3",
   "language": "python",
   "name": "python3"
  },
  "language_info": {
   "codemirror_mode": {
    "name": "ipython",
    "version": 3
   },
   "file_extension": ".py",
   "mimetype": "text/x-python",
   "name": "python",
   "nbconvert_exporter": "python",
   "pygments_lexer": "ipython3",
   "version": "3.7.6"
  }
 },
 "nbformat": 4,
 "nbformat_minor": 2
}
