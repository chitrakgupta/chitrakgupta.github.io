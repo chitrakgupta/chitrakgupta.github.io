{
 "cells": [
  {
   "cell_type": "markdown",
   "metadata": {},
   "source": [
    "&nbsp;&nbsp;&nbsp;&nbsp; [Home](https://chitrakgupta.github.io) &nbsp;&nbsp;&nbsp;&nbsp; [LinkedIn](https://www.linkedin.com/in/chitrak-gupta-5474b9115/) &nbsp;&nbsp;&nbsp;&nbsp; [Research](https://chitrakgupta.github.io/Research/) &nbsp;&nbsp;&nbsp;&nbsp; [Publications](https://chitrakgupta.github.io/Publications/) &nbsp;&nbsp;&nbsp;&nbsp; [Mertz Lab](http://www.mertzlab-biophysics.com) &nbsp;&nbsp;&nbsp;&nbsp; [Volunteering](http://chitrakgupta.github.io/Volunteering/)&nbsp;&nbsp;&nbsp;&nbsp; [BPS blog](https://chitrakgupta.github.io/BPSblog/)\n",
    "\n",
    "# Publications\n",
    "\n",
    "4\\. Conformation in Peptides and Proteins Probed by Dipolar Coupling-Chemical Shift Tensor Correlation Solid-State NMR (Journ. Magn. Reson., Submitted), Mukhopadhyay, D., **Gupta, C.**, Theint, T., and Jaroniec, C.P.\n",
    "\n",
    "3\\. Cooperative Non-bonded Forces Control Membrane Binding of the pH-Low Insertion Peptide pHLIP (Under revision), **Gupta, C.**, Ren, and Y., Mertz, B.\n",
    "\n",
    "\n",
    "2\\. [Protonation Enhances the Inherent Helix-Forming Propensity of pHLIP](https://pubs.acs.org/doi/full/10.1021/acsomega.7b01371), **Gupta, C.**, and Mertz, B., ACS Omega, 2(11), 8536-8542, 2017\n",
    "\n",
    "\n",
    "1\\. [A Novel Approach to Battlefield Wound Assessment and Treatment for Forward Surgical Teams](https://www.hdiac.org/node/5127), N. Prince, B. Popp, Ph.D., B. Mertz, Ph.D., **C. Gupta**, and J. Boyd, Ph.D., The Journal of Homeland Defense and Security Information\n",
    "Analysis Center, 4(1), Spring 2017\n"
   ]
  },
  {
   "cell_type": "code",
   "execution_count": null,
   "metadata": {
    "collapsed": true
   },
   "outputs": [],
   "source": []
  }
 ],
 "metadata": {
  "kernelspec": {
   "display_name": "Python 2",
   "language": "python",
   "name": "python2"
  },
  "language_info": {
   "codemirror_mode": {
    "name": "ipython",
    "version": 2
   },
   "file_extension": ".py",
   "mimetype": "text/x-python",
   "name": "python",
   "nbconvert_exporter": "python",
   "pygments_lexer": "ipython2",
   "version": "2.7.14"
  }
 },
 "nbformat": 4,
 "nbformat_minor": 2
}
