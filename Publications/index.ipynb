{
 "cells": [
  {
   "cell_type": "markdown",
   "metadata": {},
   "source": [
    "# Publications\n",
    "\n",
    "4\\. [Cooperative Non-bonded Forces Control Membrane Binding of the pH-Low Insertion Peptide pHLIP](https://www.cell.com/biophysj/fulltext/S0006-3495%2818%2931221-9), Biophysical Journal, 115, 2403-2412, **Gupta, C.**, Ren, and Y., Mertz, B.\n",
    "\n",
    "3\\. [Peptide Bond Conformation in Peptides and Proteins Probed by Dipolar Coupling-Chemical Shift Tensor Correlation Solid-State NMR](https://www.sciencedirect.com/science/article/pii/S1090780718302908), Mukhopadhyay, D., **Gupta, C.**, Theint, T., and Jaroniec, C.P., Journal of Magnetic Resonance, 297, 152-160, 2018\n",
    "\n",
    "2\\. [Protonation Enhances the Inherent Helix-Forming Propensity of pHLIP](https://pubs.acs.org/doi/full/10.1021/acsomega.7b01371), **Gupta, C.**, and Mertz, B., ACS Omega, 2(11), 8536-8542, 2017\n",
    "\n",
    "\n",
    "1\\. [A Novel Approach to Battlefield Wound Assessment and Treatment for Forward Surgical Teams](https://www.hdiac.org/wp-content/uploads/2018/04/V4I1_A_Novel_Approach_to_Battlefield_Wound_Assessment_and_Treatment_for_Forward_Surgical_Teams-1.pdf), N. Prince, B. Popp, Ph.D., B. Mertz, Ph.D., **C. Gupta**, and J. Boyd, Ph.D., The Journal of Homeland Defense and Security Information\n",
    "Analysis Center, 4(1), Spring 2017\n"
   ]
  }
 ],
 "metadata": {
  "kernelspec": {
   "display_name": "Python 2",
   "language": "python",
   "name": "python2"
  },
  "language_info": {
   "codemirror_mode": {
    "name": "ipython",
    "version": 2
   },
   "file_extension": ".py",
   "mimetype": "text/x-python",
   "name": "python",
   "nbconvert_exporter": "python",
   "pygments_lexer": "ipython2",
   "version": "2.7.14"
  }
 },
 "nbformat": 4,
 "nbformat_minor": 2
}
