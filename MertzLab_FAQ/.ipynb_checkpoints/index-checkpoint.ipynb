{
 "cells": [
  {
   "cell_type": "markdown",
   "metadata": {},
   "source": [
    "### What are some of the things I need to know?\n",
    "\n",
    "For the most part, you need to work from the command line. This can be a new experience ('new' is not synonymous to 'difficult'). Here are some of the things to keep in mind.\n",
    "\n",
    "a. Command line is case-sensitive. If the name of your file is \"My_File.txt\" and you search for \"my_File.txt\", the file shall not be found.\n",
    "\n",
    "b. Command line is also sensitive to file location. On Windows search menu, you can search for \"my file\" and it will look for all files that sounds similar and find it for you. On the command line, in need to be in the correct folder (which we call \"path\") in order to find the file. Otherwise, even if you are searching for exactly \"My_File.txt\", it will be not be found.\n",
    "\n",
    "c. Command line is sensitive to spaces. In fact, space has special meanings on the command line. Thus, **<font color='red'>you are strongly recommended to avoid spaces when naming files</font>**. If you wanted to name your file \"My File\", maybe make it \"My_File\". Replace the space with underscore, or hyphen, or something else.\n",
    "\n",
    "d. Command line has auto-completion. Until now, you might have been thinking \"why on earth does anyone ever use command line\"? There are many reasons, but one cool feature is the auto complete. If you are in the correct path and looking for My_File.txt, and there are no other files in that path whose name starts My, then you can just type My and hit tab. It will complete the rest of the file name.\n",
    "\n",
    "If nothing shows up, there are two possibilities:\n",
    "              1. The file isn't there\n",
    "              2. There are more than one files starting with My.\n",
    "              \n",
    "To know which, hit tab twice. If nothing shows up, it is option 1. If it is option 2., all files starting with My will be listed.\n",
    "\n",
    "This is a great feature and **<font color='red'>you are strongly encouraged to use it</font>**. It helps you save time typing those extra characters, helps you avoid typos, and tells you instantly if the file is missing.\n",
    "\n",
    "e. In the first few weeks, most of your errors are going to involve one or more of the points mentioned above. If namd2 crashed immediately, chances are the configuration file doesn't exist in the path where you launched namd2 from. Or, maybe you typed Namd2 instead of namd2. Or you forgot a space between namd2 and the configuration file name. Or something like that."
   ]
  },
  {
   "cell_type": "markdown",
   "metadata": {},
   "source": [
    "### What is all this......CHARMM, NAMD, AMBER?\n",
    "\n",
    "If you are starting out with MD simulation, this can be confusing. More so because some of these terms are used interchangeably to mean different things. Let me explain.\n",
    "\n",
    "To run a MD simulation, you need a program that will run the simulation for you. We call this program the MD simulation engine. The engine will need a few information to run a simulation. One such information is a description of the forces acting on your system. This description is coded in a set of files known as \"force field\".\n",
    "\n",
    "CHARMM is a MD simulation engine. They also have their own force field. If someone says \"I ran a simulation in CHARMM\", they probably mean they used the CHARMM simulation engine. If someone says \"I parameterized my system using CHARMM\", they are talking about the force field parameters. CHARMM22, CHARMM27 and CHARMM36 are different versions of the CHARMM force field.\n",
    "\n",
    "AMBER is another MD simulation engine. And, even they have their own force field. Amber14, Amber16 and Amber18 are versions of the simulation engine. The force field can be referred to in multiple ways. For example, some papers will say they used GAFF (stands for General Amber Force Field), or ff14SB (that's the name of AMBER's protein force field).\n",
    "\n",
    "NAMD is yet another MD Simulation engine. They don't have their own force field. All NAMD tutorials use CHARMM force fields. You can, of course, use AMBER force fields to run simulations using NAMD."
   ]
  },
  {
   "cell_type": "markdown",
   "metadata": {},
   "source": [
    "### So does that mean I can mix-and-match between simulation engine and force field?\n",
    "\n",
    "Yes, as long as you know what you are doing (in other words, consult your supervisor and/or TA if you are planning on doing this). Each force field was developed with the intention of being used in a specific way. The default MD engine has these \"specific ways\" built into them. When doing a mix-and-match, you need to make sure the force field is being used in the correct way.\n",
    "\n",
    "But in principle, yes. You can parameterize something in CHARMM and run it in AMBER or parameterize something in AMBER and run it in NAMD."
   ]
  },
  {
   "cell_type": "markdown",
   "metadata": {},
   "source": [
    "### Wait, you didn't talk about VMD\n",
    "\n",
    "Ah yes. VMD is a visualization and analysis tool. It is developed by the same people as NAMD, but it is not related to NAMD in any way. VMD can help you prepare your files before you run a simulation, and lets you visualize your trajectory after the simulation is done. You can also analyze your simulation in VMD. Some analysis tools are built-in (like RMSD), you can also design your own analysis through their Tcl interface.\n",
    "\n",
    "VMD is by no means the only analysis tool. Another example is cpptraj, developed by the AMBER developers. Mix-and-match is a lot easier for analysis tools. You can easily run a simulation in AMBER and analyze them in VMD.\n",
    "\n",
    "Also, if you are doing a lot of trajectory manipulation (centering, aligning, clustering, etc.) and/or doing a lot of lipid simulation, [LOOS](http://loos.sourceforge.net/) can be a very useful tool."
   ]
  },
  {
   "cell_type": "markdown",
   "metadata": {},
   "source": [
    "### How do I get the command line?\n",
    "\n",
    "You need what we call a terminal. If using Linux or Mac, it already has a terminal installed. If using Windows, you need to install a terminal. There are more than one available for free. A common one is Putty, although I personally prefer MobaXterm."
   ]
  },
  {
   "cell_type": "markdown",
   "metadata": {},
   "source": [
    "### How do I create an account on Spruce?\n",
    "\n",
    "You need to request WVU Research Computing for an account. You can open a ticket on there helpdesk."
   ]
  },
  {
   "cell_type": "markdown",
   "metadata": {},
   "source": [
    "### How do I login to Spruce?\n",
    "\n",
    "Your account ID has two parts:\n",
    "          1. Your id (usually your MIX id)\n",
    "          2. The host name, which in the case of spruce is spruce.hpc.wvu.edu\n",
    "          \n",
    "On Linux and Mac, open up a terminal and type the following:\n",
    "         ssh username@hostname\n",
    "         \n",
    "Your password is your MIX password. Note that you cannot see your password while it is being typed, **<font color='red'>not even the asterisk</font>**.\n",
    "\n",
    "On Windows, you need to setup Putty (or whatever terminal you are using). Create a new session, and put the necessary details. The password is your MIX password"
   ]
  },
  {
   "cell_type": "markdown",
   "metadata": {},
   "source": [
    "### How do I copy files to and from Spruce?\n",
    "\n",
    "On Linux and Mac (and also Windows if using Mobaterm), you can either use scp or rsync from the terminal. The latter is almost always the better choice unless you are copying just one file.\n",
    "\n",
    "The format always is the following:<br>\n",
    "+ rsync source destination\n",
    "\n",
    "If you are copying files from your laptop to Spruce, \"source\" is your laptop, destination is Spruce. Open up the terminal and navigate to where your file(s) is/are. Then type this:<br>\n",
    "+ rsync ./filename username@hostname:/path/where/you/want/\n",
    "\n",
    "Don't forget the : after hostname.\n",
    "\n",
    "\n",
    "If using Putty on Windows, you need to download and install WinSCP. Setup your session similarly as you did for Putty. Once you login, your WinSCP screen will have two parts: left shows your laptop and right shows Spruce. Now simply drag-and-drop."
   ]
  },
  {
   "cell_type": "markdown",
   "metadata": {},
   "source": [
    "### What do I need to know about Spruce?\n",
    "\n",
    "When an account is created for you, you get a home folder and a scratch folder. Every time you login to Spruce, you are logged in your home folder. The path to your home folder on Spruce is usually /users/username. If you forget that, you can always see it by typing the following on Spruce:<br>\n",
    "+ echo $HOME\n",
    "\n",
    "Home folder has limited memory, and is usually meant for keeping small files that you need to use often (you might not have any such file). **<font color='red'>NEVER RUN SIMULATIONS FROM THE HOME FOLDER</font>**. Simulations generate huge data files and can potentially crash Spruce.\n",
    "\n",
    "This brings us to the scratch folder. The path is usually /scratch/username. Again, you can always see it by typing the following on Spruce:<br>\n",
    "+ echo $SCRATCH\n",
    "\n",
    "All simulations must be ran from the scratch folder. In other words, when copying the files from your laptop, copy them into the scratch folder, not the home folder."
   ]
  },
  {
   "cell_type": "markdown",
   "metadata": {},
   "source": [
    "### How do I run simulations on Spruce?\n",
    "\n",
    "Spruce runs jobs through a queueing system. On spruce, you never directly excecute the namd2 command like you do on your laptop. Instead, you submit a request for namd2 to be ran. This is done through a submission script, which you need to obtain from your supervisor/TA (I will try and find a way to upload it here in future). In that script, you will need to change the following:\n",
    "\n",
    "1. Job Name: This is optional, more for your record. Give a name for your job (do not use spaces).\n",
    "\n",
    "2. yourEmail: Put your email. You will get an email when the job begins, ends or aborts. You can also change the conditions for receiving email (like, you can make it 'send email only when job ends' or 'send email only when job begins or aborts').\n",
    "\n",
    "3. Queue name: There are more than one queues on Spruce. Read the posts below to understand which queue is ideal for you. Click [here](https://wiki.hpc.wvu.edu/hpc_wiki/index.php/Spruce_Batch_Queues) to see a list of all the queues on Spruce. Note that you might not be elligible to run jobs on each and every one of them.\n",
    "\n",
    "4. nodes;ppn: These denote how many nodes you are requesting, and how many processes you want to run per node. Usually you won't need to change the ppn. Currently it is set at 16, your supervisor will tell you if that ever changes. To understand how to set the number of nodes, read the posts below.\n",
    "\n",
    "5. walltime. This denots how much time you are requesting. To know how long your job is expected to take, read the posts below."
   ]
  },
  {
   "cell_type": "markdown",
   "metadata": {},
   "source": [
    "### What are steps I need to follow to run simulations on Spruce?\n",
    "\n",
    "I will describe the most formal way of setting up and benchmarking your job. If you are running a relatively short job, you might be able to bypass the benchmarking steps from steps 6 through ??. **<font color='red'>Consult your supervisor if you are planning on skipping those steps</font>**.<br>\n",
    "\n",
    "   1. Transfer all your files to Spruce (scratch folder). It is a good practice to create separate folders for each of your simulations.<br>\n",
    "\n",
    "   2. Obtain the submission script, put your email and job name.<br>\n",
    "\n",
    "   3. Run a \"debug\" job. This is primarily to make sure you have transferred all your files, and to the correct location (trust me, you will make mistakes here). The \"real\" jobs have very long wait times. The last thing you want is wait 24 hours for your job to start, then realize one file was missing!<br>\n",
    "\n",
    "   4. To do this, put \"debug\" as your queue. Put a walltime of ~ 5 mins (000:05:00). Puts nodes=1. This means, you are requesting 1 node for 5 mins. Run the job using the following command from the command line:\n",
    "       + qsub filename.sh\n",
    "   \n",
    "   where filename.sh is the name of the submission script<br>\n",
    "\n",
    "   5. Of course, your job won't finish in 5 mins. But if you see it is running normally, that means you are good. If not, you need to fix what is wrong.<br>\n",
    "\n",
    "   6. Now you need to figure out how many nodes you need. If you request too few nodes (like 1 node), your job will take very long to finish. If, however, you ask for too many nodes, you will be wasting computational time. This is because there is a limit to how much faster your job can run by parallelization. Beyond that, you are using resource but that isn't helping.<br>\n",
    "\n",
    "   7. Now, when you ran the original \"debug\" job, you had generated a log file (if you deleted it, just run it again). From the command line, type this:\n",
    "\n",
    "    + grep Benchmark filename.log\n",
    "\n",
    "   where \"filename.log\" is the name of your log file. This will find lines containing the word \"Benchmark\" from the file and display on the screen. Look for the number before \"days/ns\". That's how fast your job was running on 1 node.<br>\n",
    "   \n",
    "   8. Note this number somewhere. Ideally, rename the log file (use the 'cp' command for this) so that it doesn't get overwritten.<br>\n",
    "   \n",
    "   9. Now, put \"nodes=2\" in your submission script. Don't change anything else. Submit the job again. **<font color='red'>Note that all files will be overwritten</font>**.<br>\n",
    "   \n",
    "   10. From the new log file, get the benchmark times.<br>\n",
    "   \n",
    "   11. Repeat for nodes=4, 6, etc. You might not have to go beyond that. When using more than 2 nodes, you might have to put \"standby\" as your queue (no longer \"debug\").<br>\n",
    "\n",
    "   12. Plot the performance (in ns/day, not days/ns) as a function of number of nodes. You will get a good idea when your performance is beginning to fall off.<br>\n",
    "   \n",
    "   13. Now you know the optimal number of nodes for your job. From the benchmark time, you also now how long your job is expected to take (to be on the safer side, request slightly longer time. For example, if the job is expected to take 20.48 hours, maybe request 22 hours).<br>\n",
    " \n",
    "   14. Now you need to decide on the queue. The community queues have a walltime limit. Click [here](https://wiki.hpc.wvu.edu/hpc_wiki/index.php/Spruce_Batch_Queues) to see the wall time limit on each queue (the community queues are 'debug', 'standby', comm_mmem_day' and 'comm_mmem_week'). If you are a part of the Mertz group, you might have access to the jbmertz queue.\n",
    "\n",
    "   15. Congratulations! You are now the local expert on \"How to run MD simulation on Spruce\"."
   ]
  },
  {
   "cell_type": "code",
   "execution_count": null,
   "metadata": {},
   "outputs": [],
   "source": []
  }
 ],
 "metadata": {
  "kernelspec": {
   "display_name": "Python 2",
   "language": "python",
   "name": "python2"
  },
  "language_info": {
   "codemirror_mode": {
    "name": "ipython",
    "version": 2
   },
   "file_extension": ".py",
   "mimetype": "text/x-python",
   "name": "python",
   "nbconvert_exporter": "python",
   "pygments_lexer": "ipython2",
   "version": "2.7.14"
  }
 },
 "nbformat": 4,
 "nbformat_minor": 2
}
