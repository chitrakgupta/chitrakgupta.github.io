{
 "cells": [
  {
   "cell_type": "markdown",
   "metadata": {},
   "source": [
    "### What are some of the things I need to know?\n",
    "\n",
    "For the most part, you need to work from the command line. This can be a new experience ('new' is not synonymous to 'difficult'). Here are some of the things to keep in mind.\n",
    "\n",
    "a. Command line is case-sensitive. If the name of your file is \"My_File.txt\" and you search for \"my_File.txt\", the file shall not be found.\n",
    "\n",
    "b. Command line is also sensitive to file location. On Windows search menu, you can search for \"my file\" and it will look for all files that sounds similar and find it for you. On the command line, in need to be in the correct folder (which we call \"path\") in order to find the file. Otherwise, even if you are searching for exactly \"My_File.txt\", it will be not be found.\n",
    "\n",
    "c. Command line is sensitive to spaces. In fact, space has special meanings on the command line. Thus, **<font color='red'>you are strongly recommended to avoid spaces when naming files</font>**. If you wanted to name your file \"My File\", maybe make it \"My_File\". Replace the space with underscore, or hyphen, or something else.\n",
    "\n",
    "d. Command line has auto-completion. Until now, you might have been thinking \"why on earth does anyone ever use command line\"? There are many reasons, but one cool feature is the auto complete. If you are in the correct path and looking for My_File.txt, and there are no other files in that path whose name starts My, then you can just type My and hit tab. It will complete the rest of the file name.\n",
    "\n",
    "If nothing shows up, there are two possibilities:\n",
    "              1. The file isn't there\n",
    "              2. There are more than one files starting with My.\n",
    "              \n",
    "To know which, hit tab twice. If nothing shows up, it is option 1. If it is option 2., all files starting with My will be listed.\n",
    "\n",
    "This is a great feature and **<font color='red'>you are strongly encouraged to use it</font>**. It helps you save time typing those extra characters, helps you avoid typos, and tells you instantly if the file is missing.\n",
    "\n",
    "e. In the first few weeks, most of your errors are going to involve one or more of the points mentioned above. If namd2 crashed immediately, chances are the configuration file doesn't exist in the path where you launched namd2 from. Or, maybe you typed Namd2 instead of namd2. Or you forgot a space between namd2 and the configuration file name. Or something like that."
   ]
  },
  {
   "cell_type": "markdown",
   "metadata": {},
   "source": [
    "### What is all this......CHARMM, NAMD, AMBER?\n",
    "\n",
    "If you are starting out with MD simulation, this can be confusing. More so because some of these terms are used interchangeably to mean different things. Let me explain.\n",
    "\n",
    "To run a MD simulation, you need a program that will run the simulation for you. We call this program the MD simulation engine. The engine will need a few information to run a simulation. One such information is a description of the forces acting on your system. This description is coded in a set of files known as \"force field\".\n",
    "\n",
    "CHARMM is a MD simulation engine. They also have their own force field. If someone says \"I ran a simulation in CHARMM\", they probably mean they used the CHARMM simulation engine. If someone says \"I parameterized my system using CHARMM\", they are talking about the force field parameters. CHARMM22, CHARMM27 and CHARMM36 are different versions of the CHARMM force field.\n",
    "\n",
    "AMBER is another MD simulation engine. And, even they have their own force field. Amber14, Amber16 and Amber18 are versions of the simulation engine. The force field can be referred to in multiple ways. For example, some papers will say they used GAFF (stands for General Amber Force Field), or ff14SB (that's the name of AMBER's protein force field).\n",
    "\n",
    "NAMD is yet another MD Simulation engine. They don't have their own force field. All NAMD tutorials use CHARMM force fields. You can, of course, use AMBER force fields to run simulations using NAMD."
   ]
  },
  {
   "cell_type": "markdown",
   "metadata": {},
   "source": [
    "### So does that mean I can mix-and-match between simulation engine and force field?\n",
    "\n",
    "Yes, as long as you know what you are doing (in other words, consult your supervisor and/or TA if you are planning on doing this). Each force field was developed with the intention of being used in a specific way. The default MD engine has these \"specific ways\" built into them. When doing a mix-and-match, you need to make sure the force field is being used in the correct way.\n",
    "\n",
    "But in principle, yes. You can parameterize something in CHARMM and run it in AMBER or parameterize something in AMBER and run it in NAMD."
   ]
  },
  {
   "cell_type": "markdown",
   "metadata": {},
   "source": [
    "### Wait, you didn't talk about VMD\n",
    "\n",
    "Ah yes. VMD is a visualization and analysis tool. It is developed by the same people as NAMD, but it is not related to NAMD in any way. VMD can help you prepare your files before you run a simulation, and lets you visualize your trajectory after the simulation is done. You can also analyze your simulation in VMD. Some analysis tools are built-in (like RMSD), you can also design your own analysis through their Tcl interface.\n",
    "\n",
    "VMD is by no means the only analysis tool. Another example is cpptraj, developed by the AMBER developers. Mix-and-match is a lot easier for analysis tools. You can easily run a simulation in AMBER and analyze them in VMD.\n",
    "\n",
    "Also, if you are doing a lot of trajectory manipulation (centering, aligning, clustering, etc.) and/or doing a lot of lipid simulation, [LOOS](http://loos.sourceforge.net/) can be a very useful tool."
   ]
  },
  {
   "cell_type": "markdown",
   "metadata": {},
   "source": [
    "### How do I get the command line?\n",
    "\n",
    "You need what we call a terminal. If using Linux or Mac, it already has a terminal installed. If using Windows, you need to install a terminal. There are more than one available for free. A common one is Putty, although I personally prefer MobaXterm."
   ]
  },
  {
   "cell_type": "markdown",
   "metadata": {},
   "source": [
    "### How do I create an account on Spruce?\n",
    "\n",
    "You need to request WVU Research Computing for an account. You can open a ticket on there helpdesk."
   ]
  },
  {
   "cell_type": "markdown",
   "metadata": {},
   "source": [
    "### How do I login to Spruce?\n",
    "\n",
    "Your account ID has two parts:\n",
    "          1. Your id (usually your MIX id)\n",
    "          2. The host name, which in the case of spruce is spruce.hpc.wvu.edu\n",
    "          \n",
    "On Linux and Mac, open up a terminal and type the following:\n",
    "         ssh username@hostname\n",
    "         \n",
    "Your password is your MIX password. Note that you cannot see your password while it is being typed, **<font color='red'>not even the asterisk</font>**.\n",
    "\n",
    "On Windows, you need to setup Putty (or whatever terminal you are using). Create a new session, and put the necessary details. The password is your MIX password"
   ]
  },
  {
   "cell_type": "markdown",
   "metadata": {},
   "source": [
    "### How do I copy files to and from Spruce?\n",
    "\n",
    "On Linux and Mac (and also Windows if using Mobaterm), you can either use scp or rsync from the terminal. The latter is almost always the better choice unless you are copying just one file.\n",
    "\n",
    "The format always is the following:<br>\n",
    "+ rsync source destination\n",
    "\n",
    "If you are copying files from your laptop to Spruce, \"source\" is your laptop, destination is Spruce. Open up the terminal and navigate to where your file(s) is/are. Then type this:<br>\n",
    "+ rsync ./filename username@hostname:/path/where/you/want/\n",
    "\n",
    "Don't forget the : after hostname.\n",
    "\n",
    "\n",
    "If using Putty on Windows, you need to download and install WinSCP. Setup your session similarly as you did for Putty. Once you login, your WinSCP screen will have two parts: left shows your laptop and right shows Spruce. Now simply drag-and-drop."
   ]
  },
  {
   "cell_type": "markdown",
   "metadata": {},
   "source": [
    "#### What do I need to know about Spruce?\n",
    "\n",
    "When an account is created for you, you get a home folder and a scratch folder. Every time you login to Spruce, you are logged in your home folder. The path to your home folder on Spruce is usually /users/username. If you forget that, you can always see it by typing the following on Spruce:<br>\n",
    "+ echo $HOME\n",
    "\n",
    "Home folder has limited memory, and is usually meant for keeping small files that you need to use often (you might not have any such file). **<font color='red'>NEVER RUN SIMULATIONS FROM THE HOME FOLDER</font>**. Simulations generate huge data files and can potentially crash Spruce.\n",
    "\n",
    "This brings us to the scratch folder. The path is usually /scratch/username. Again, you can always see it by typing the following on Spruce:<br>\n",
    "+ echo $SCRATCH\n",
    "\n",
    "All simulations must be ran from the scratch folder. In other words, when copying the files from your laptop, copy them into the scratch folder, not the home folder."
   ]
  },
  {
   "cell_type": "markdown",
   "metadata": {},
   "source": [
    "#### How do I run simulations on Spruce?\n",
    "\n"
   ]
  },
  {
   "cell_type": "code",
   "execution_count": null,
   "metadata": {},
   "outputs": [],
   "source": []
  }
 ],
 "metadata": {
  "kernelspec": {
   "display_name": "Python 2",
   "language": "python",
   "name": "python2"
  },
  "language_info": {
   "codemirror_mode": {
    "name": "ipython",
    "version": 2
   },
   "file_extension": ".py",
   "mimetype": "text/x-python",
   "name": "python",
   "nbconvert_exporter": "python",
   "pygments_lexer": "ipython2",
   "version": "2.7.14"
  }
 },
 "nbformat": 4,
 "nbformat_minor": 2
}
