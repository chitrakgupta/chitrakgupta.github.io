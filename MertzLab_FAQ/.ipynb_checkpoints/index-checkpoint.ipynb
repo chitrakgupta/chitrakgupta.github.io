{
 "cells": [
  {
   "cell_type": "markdown",
   "metadata": {},
   "source": [
    "### What are some of the things I need to know?\n",
    "\n",
    "For the most part, you need to work from the command line. This can be a new experience ('new' is not synonymous to 'difficult'). Here are some of the things to keep in mind.\n",
    "\n",
    "a. Command line is case-sensitive. If the name of your file is \"My_File.txt\" and you search for \"my_File.txt\", the file shall not be found.\n",
    "\n",
    "b. Command line is also sensitive to file location. On Windows search menu, you can search for \"my file\" and it will look for all files that sounds similar and find it for you. On the command line, in need to be in the correct folder (which we call \"path\") in order to find the file. Otherwise, even if you are searching for exactly \"My_File.txt\", it will be not be found.\n",
    "\n",
    "c. Command line is sensitive to spaces. In fact, space has special meanings on the command line. Thus, <font color='red'>**you are strongly recommended to avoid spaces when naming files**</font>. If you wanted to name your file \"My File\", maybe make it \"My_File\". Replace the space with underscore, or hyphen, or something else.\n",
    "\n",
    "d. Command line has auto-completion. Until now, you might have been thinking \"why on earth does anyone ever use command line\"? There are many reasons, but one cool feature is the auto complete. If you are in the correct path and looking for My_File.txt, and there are no other files in that path whose name starts My, then you can just type My and hit tab. It will complete the rest of the file name.\n",
    "\n",
    "If nothing shows up, there are two possibilities:\n",
    "              1. The file isn't there\n",
    "              2. There are more than one files starting with My.\n",
    "              \n",
    "To know which, hit tab twice. If nothing shows up, it is option 1. If it is option 2., all files starting with My will be listed.\n",
    "\n",
    "This is a great feature and <font color='red'>**you are strongly encouraged to use it**</font>. It helps you save time typing those extra characters, helps you avoid typos, and tells you instantly if the file is missing.\n",
    "\n",
    "e. In the first few weeks, most of your errors are going to involve one or more of the points mentioned above. If namd2 crashed immediately, chances are the configuration file doesn't exist in the path where you launched namd2 from. Or, maybe you typed Namd2 instead of namd2. Or you forgot a space between namd2 and the configuration file name. Or something like that."
   ]
  },
  {
   "cell_type": "markdown",
   "metadata": {},
   "source": [
    "### What's all this....NAMD, CHARMM, AMBER.....?\n",
    "\n",
    "If you are getting started with MD simulation, this might be confusing. Partly because the terms \"CHARMM\" and \"AMBER\" are used interchangeably to mean the MD engine and a force field parameter set. Let me explain.\n",
    "\n",
    "To run a MD simulation, you need a software that runs this simulation for you.....that's our MD engine. And, when running this simulation, the engine needs, among other things, a description of the forces acting on your system. This description is coded in the \"force field\" files.\n",
    "\n",
    "CHARMM is a MD simulation engine, and also has its own force field parameters. If someone says \"I ran the simulation in CHARMM\", it usually means they used the CHARMM engine. If they say \"I parameterized my system using CHARMM\", they are refering to the CHARMM force field parameters. \"CHARMM22\", \"CHARMM27\", \"CHARMM36\" are all different versions of the CHARMM parameter set. This is different from the simulation engine.\n",
    "\n",
    "Amber is a MD simulation engine, it also has its own force field parameters. Terms like \"Amber14\", \"Amber16\" and \"Amber18\" refers to the MD engine. In literature, however, you might not see the term \"Amber parameters\". Instead, you might encounter terms like \"GAFF\" (stands for General Amber Force Field) or \"ff14SB\" (this is Amber's protein force field) etc. It's confusing, I know!\n",
    "\n",
    "NAMD is a MD simulation engine. It does not have its own parameter set. All NAMD tutorials use CHARMM parameters. But you can of course use AMBER parameters to run simulations using NAMD."
   ]
  },
  {
   "cell_type": "markdown",
   "metadata": {},
   "source": [
    "### So does that mean I can mix-and-match force fields and simulation engines?\n",
    "\n",
    "Yes, provided you know what you are doing (in other words, speak to your supervisor and/or TA if you plan on doing this). But in general, you can use CHARMM parameters to run simulation in AMBER simulation engine, or AMBER parameters to run simulations in NAMD. I personally have never ran simulations in CHARMM simulation engine, so cannot comment on that.\n",
    "\n",
    "The reason this is not always trivial is because every force field was designed to be used in a certain way, and the \"default\" simulation engine has those ways built into it. If you are doing a mix-and-match, make sure the force field is being used in the correct way."
   ]
  },
  {
   "cell_type": "markdown",
   "metadata": {},
   "source": [
    "### Wait, you never said anything about VMD\n",
    "\n",
    "Ah, yes! VMD is a visualization and analysis tool. It is developed by the same group as NAMD, **but these two are totally different from each other**. VMD can help you prepare your simulation files before you run a simulation. It also lets you visualize your trajectory after you run the simulation. And it is great for analyzing your trajectory. There are some built-in analysis tools (like RMSD), and it also lets you develop your own analysis tools through a tcl interface.\n",
    "\n",
    "VMD is by no means the only such tool. AMBER developers have their own analysis tool, called cpptraj. And doing a mix-and-match is much easier here, in that there are no such 'built-in' things that I referred to in the previous question. You can easily run a simulation in AMBER and analyze it in VMD."
   ]
  },
  {
   "cell_type": "markdown",
   "metadata": {},
   "source": [
    "### How do I get the command line?\n",
    "\n",
    "You need what we call a terminal. If using Linux or Mac, it already has a terminal installed. If using Windows, you need to install a terminal. There are more than one available for free. A common one is Putty, although I personally prefer MobaXterm."
   ]
  },
  {
   "cell_type": "markdown",
   "metadata": {},
   "source": [
    "### How do I create an account on Spruce?\n",
    "\n",
    "You need to request WVU Research Computing for an account. You can open a ticket on there helpdesk."
   ]
  },
  {
   "cell_type": "markdown",
   "metadata": {},
   "source": [
    "### How do I login to Spruce?\n",
    "\n",
    "Your account ID has two parts:\n",
    "          1. Your id (usually your MIX id)\n",
    "          2. The host name, which in the case of spruce is spruce.hpc.wvu.edu\n",
    "          \n",
    "On Linux and Mac, open up a terminal and type the following:\n",
    "         ssh username@hostname\n",
    "         \n",
    "Your password is your MIX password. Note that you cannot see your password while it is being typed, <font color='red'>**not even the asterisk**</font>.\n",
    "\n",
    "On Windows, you need to setup Putty (or whatever terminal you are using). Create a new session, and put the necessary details. The password is your MIX password"
   ]
  },
  {
   "cell_type": "markdown",
   "metadata": {},
   "source": [
    "### How do I copy files to and from Spruce?\n",
    "\n",
    "On Linux and Mac (and also Windows if using Mobaterm), you can either use scp or rsync from the terminal. The latter is almost always the better choice unless you are copying just one file.\n",
    "\n",
    "The format always is the following:<br>\n",
    "+ rsync source destination\n",
    "\n",
    "If you are copying files from your laptop to Spruce, \"source\" is your laptop, destination is Spruce. Open up the terminal and navigate to where your file(s) is/are. Then type this:<br>\n",
    "+ rsync ./filename username@hostname:/path/where/you/want/\n",
    "\n",
    "Don't forget the : after hostname.\n",
    "\n",
    "\n",
    "If using Putty on Windows, you need to download and install WinSCP. Setup your session similarly as you did for Putty. Once you login, your WinSCP screen will have two parts: left shows your laptop and right shows Spruce. Now simply drag-and-drop."
   ]
  },
  {
   "cell_type": "markdown",
   "metadata": {},
   "source": [
    "### What do I need to know about Spruce?\n",
    "\n",
    "When an account is created for you, you get a home folder and a scratch folder. Every time you login to Spruce, you are logged in your home folder. The path to your home folder on Spruce is usually /users/username. If you forget that, you can always see it by typing the following on Spruce:<br>\n",
    "+ echo $HOME\n",
    "\n",
    "Home folder has limited memory, and is usually meant for keeping small files that you need to use often (you might not have any such file). <font color='red'>** NEVER RUN SIMULATIONS FROM THE HOME FOLDER**</font>. Simulations generate huge data files and can potentially crash Spruce.\n",
    "\n",
    "This brings us to the scratch folder. The path is usually /scratch/username. Again, you can always see it by typing the following on Spruce:<br>\n",
    "+ echo $SCRATCH\n",
    "\n",
    "All simulations must be ran from the scratch folder. In other words, when copying the files from your laptop, copy them into the scratch folder, not the home folder."
   ]
  },
  {
   "cell_type": "markdown",
   "metadata": {},
   "source": [
    "### How do I run simulations on Spruce?\n",
    "\n",
    "Spruce uses a queueing system to run jobs. Unlike your computer, you never submit a job directly (i.e. you never directly execute the namd2 command). Instead, you request your job to be ran, and request a specific number of nodes and a specific amount of time. Read the following posts for more details on this.\n",
    "\n",
    "The request happens through a submission script. I am giving a sample script below. While the basic structure of such a script is expected to remain unchanged, <font color='red'>**note that the way the modules are loaded can get outdated pretty quickly**</font>. Consult your supervisor and/or TA to verify this.\n",
    "<br><br>\n",
    "The following need to be changed:<br>\n",
    "**JobName**  : This is optional, just for your record. Give any name (but don't put spaces)<br>\n",
    "**'bae'**    : This specifies under what condition(s) will you receive an email. 'b' stands for job begin. 'a' stands for job abort. 'e' is for job end. You can use some or all or neither of these.<br>\n",
    "yourEmail@mix.wvu.edu: Put the email ID where you want these emails to be sent.<br>\n",
    "**queName**  : There are more than one queues available on Spruce. I will explain more on this in the following posts. For a complete list of queues, click [here](https://wiki.hpc.wvu.edu/hpc_wiki/index.php/Spruce_Batch_Queues). Note that you might or might not be eligible to run jobs on each and every one of those.<br>\n",
    "**nodes;ppn**: Specifies how many nodes you want to run your jobs on. Read following posts to find out more on this. Don't change the ppn, it should stay at 16 or whatever your supervisor recommends.<br>\n",
    "**walltime** : How long you think your job will take. Read the following posts to find out more.<br>\n",
    "<br><br>\n",
    "<font size=2>\n",
    "#!/bin/bash<br>\n",
    "#PBS -N JobName<br>\n",
    "#PBS -m bae<br>\n",
    "#PBS -M yourEmail@mix.wvu.edu<br>\n",
    "#PBS -q queName<br>\n",
    "#PBS -l nodes=1:ppn=16<br>\n",
    "#PBS -l walltime=000:00:00<br>\n",
    "<br>\n",
    "cd `$`PBS_O_WORKDIR <br>\n",
    "module load chemistry/namd/ibverbs/2.11 <br>\n",
    "NODES=`pwd`/.nodelist<br>\n",
    "<br>\n",
    "cat `$`PBS_NODEFILE | perl -e 'while(<>) { chomp; `$`node{`$_`}++; } `$`num = keys %node; print \"group main\\n\"; for (keys %node) { print \"host `$_` ++cpus `$`node{`$`_}\\n\"; }' > `$`NODES\n",
    "<br>\n",
    "date\n",
    "/usr/bin/time charmrun +p16 ++nodelist `$`NODES `$`NAMD confFile.conf > logFile.log\n",
    "rm `$`NODES<br>\n",
    "exit 0<br>\n",
    "</font>"
   ]
  },
  {
   "cell_type": "code",
   "execution_count": null,
   "metadata": {},
   "outputs": [],
   "source": []
  }
 ],
 "metadata": {
  "kernelspec": {
   "display_name": "Python 2",
   "language": "python",
   "name": "python2"
  },
  "language_info": {
   "codemirror_mode": {
    "name": "ipython",
    "version": 2
   },
   "file_extension": ".py",
   "mimetype": "text/x-python",
   "name": "python",
   "nbconvert_exporter": "python",
   "pygments_lexer": "ipython2",
   "version": "2.7.15"
  }
 },
 "nbformat": 4,
 "nbformat_minor": 2
}
