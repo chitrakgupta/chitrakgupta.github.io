{
 "cells": [
  {
   "cell_type": "markdown",
   "metadata": {},
   "source": [
    "&nbsp;&nbsp;&nbsp;&nbsp; [Home](https://chitrakgupta.github.io) &nbsp;&nbsp;&nbsp;&nbsp; [LinkedIn](https://www.linkedin.com/in/chitrak-gupta-5474b9115/) &nbsp;&nbsp;&nbsp;&nbsp; [Research](https://chitrakgupta.github.io/Research/) &nbsp;&nbsp;&nbsp;&nbsp; [Publications](https://chitrakgupta.github.io/Publications/) &nbsp;&nbsp;&nbsp;&nbsp; [Mertz Lab](http://www.mertzlab-biophysics.com) &nbsp;&nbsp;&nbsp;&nbsp; [Volunteering](http://chitrakgupta.github.io/Volunteering/)&nbsp;&nbsp;&nbsp;&nbsp; [BPS blog](https://chitrakgupta.github.io/BPSblog/)\n",
    "\n",
    "# Annual meeting 2017, New Orleans\n",
    "\n",
    "[Back to the grind](http://www.biophysics.org/blog/back-to-the-grind)\n",
    "\n",
    "[Producing reliable science](http://www.biophysics.org/blog/producing-reliable-science)\n",
    "\n",
    "[Membrane active peptides, career development, and French Quarter](http://www.biophysics.org/blog/membrane-active-peptides-career-development-and-french-quarter)\n",
    "\n",
    "\n",
    "# Annual meeting 2016, Los Angeles\n",
    "\n",
    "[Two days in one post](http://www.biophysics.org/blog/two-days-in-one-post)\n",
    "\n",
    "[A hectic day](http://www.biophysics.org/blog/a-hectic-day)\n",
    "\n",
    "[It's time for the BPS meeting!](http://www.biophysics.org/blog/its-time-for-the-bps-meeting)\n",
    "\n",
    "\n",
    "# Annual meeting 2015, Baltimore\n",
    "\n",
    "[The foodie speaks](http://www.biophysics.org/blog/the-foodie-speaks)\n",
    "\n",
    "[Working at networking](http://www.biophysics.org/blog/working-at-networking)\n",
    "\n",
    "[Is your sound system strong enough?](http://www.biophysics.org/blog/is-your-sound-system-strong-enough)\n",
    "\n",
    "[First impression and omega-3 fatty acid]()\n"
   ]
  },
  {
   "cell_type": "markdown",
   "metadata": {},
   "source": []
  }
 ],
 "metadata": {
  "kernelspec": {
   "display_name": "Python 2",
   "language": "python",
   "name": "python2"
  },
  "language_info": {
   "codemirror_mode": {
    "name": "ipython",
    "version": 2
   },
   "file_extension": ".py",
   "mimetype": "text/x-python",
   "name": "python",
   "nbconvert_exporter": "python",
   "pygments_lexer": "ipython2",
   "version": "2.7.15"
  }
 },
 "nbformat": 4,
 "nbformat_minor": 2
}
